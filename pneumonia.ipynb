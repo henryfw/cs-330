{
 "cells": [
  {
   "cell_type": "markdown",
   "metadata": {
    "id": "3wF5wszaj97Y"
   },
   "source": [
    "# Single Class Pneumonia"
   ]
  },
  {
   "cell_type": "code",
   "execution_count": 1,
   "metadata": {},
   "outputs": [],
   "source": [
    "import tensorflow as tf\n",
    "\n",
    "\n",
    "gpus = tf.config.experimental.list_physical_devices('GPU')\n",
    "tf.config.experimental.set_memory_growth(gpus[0], True)\n",
    "tf.config.experimental.set_virtual_device_configuration(gpus[0], [tf.config.experimental.VirtualDeviceConfiguration(memory_limit=3999)])\n",
    " \n",
    "\n",
    "from tensorflow.keras.layers import Dense, Flatten, Conv2D\n",
    "from tensorflow.keras import Model"
   ]
  },
  {
   "cell_type": "code",
   "execution_count": 2,
   "metadata": {},
   "outputs": [
    {
     "name": "stdout",
     "output_type": "stream",
     "text": [
      "WARNING:tensorflow:From <ipython-input-2-25452c320fbf>:2: is_gpu_available (from tensorflow.python.framework.test_util) is deprecated and will be removed in a future version.\n",
      "Instructions for updating:\n",
      "Use `tf.config.list_physical_devices('GPU')` instead.\n",
      "Is your GPU available for use?\n",
      "Yes, your GPU is available: True\n",
      "\n",
      "Your devices that are available:\n",
      "['/physical_device:CPU:0', '/physical_device:XLA_CPU:0', '/physical_device:GPU:0', '/physical_device:XLA_GPU:0']\n"
     ]
    }
   ],
   "source": [
    "print(('Is your GPU available for use?\\n{0}').format(\n",
    "    'Yes, your GPU is available: True' if tf.test.is_gpu_available() == True else 'No, your GPU is NOT available: False'\n",
    "))\n",
    "\n",
    "print(('\\nYour devices that are available:\\n{0}').format(\n",
    "    [device.name for device in tf.config.experimental.list_physical_devices()]\n",
    "))"
   ]
  },
  {
   "cell_type": "markdown",
   "metadata": {
    "id": "7NAbSZiaoJ4z"
   },
   "source": [
    "Load and prepare data"
   ]
  },
  {
   "cell_type": "code",
   "execution_count": 3,
   "metadata": {},
   "outputs": [],
   "source": [
    "import cv2 as cv\n",
    "import pickle\n",
    "import random\n",
    "import numpy as np\n",
    " "
   ]
  },
  {
   "cell_type": "code",
   "execution_count": 4,
   "metadata": {
    "execution": {
     "iopub.execute_input": "2020-10-08T01:22:55.975638Z",
     "iopub.status.busy": "2020-10-08T01:22:55.974545Z",
     "iopub.status.idle": "2020-10-08T01:22:56.930680Z",
     "shell.execute_reply": "2020-10-08T01:22:56.931142Z"
    },
    "id": "JqFRS6K07jJs"
   },
   "outputs": [
    {
     "name": "stdout",
     "output_type": "stream",
     "text": [
      "train size: 4684, test size: 1172\n"
     ]
    }
   ],
   "source": [
    "raw_data = pickle.load( open( \"C:/Users/uprz2/Downloads/cs330/data/pneumonia-256-grayscale\", \"rb\" ) ) # array of tuples( [x,y], 0|1 )\n",
    "random.shuffle(raw_data)\n",
    "\n",
    "\n",
    "fraction_train = 0.8\n",
    "train_size = int(len(raw_data) * fraction_train)\n",
    "\n",
    "x_train = []\n",
    "y_train = []\n",
    "\n",
    "for v in raw_data[0: train_size] :\n",
    "    x_train.append(v[0])\n",
    "    y_train.append(v[1])\n",
    "\n",
    "x_train = np.array(x_train) \n",
    "y_train = np.array(y_train)    \n",
    "\n",
    "x_test = []\n",
    "y_test = []\n",
    "\n",
    "\n",
    "for v in raw_data[train_size:]:\n",
    "    x_test.append(v[0])\n",
    "    y_test.append(v[1])\n",
    "    \n",
    "\n",
    "x_test = np.array(x_test) \n",
    "y_test = np.array(y_test)  \n",
    "\n",
    "\n",
    "x_train, x_test = x_train / 255.0, x_test / 255.0\n",
    "\n",
    "\n",
    "\n",
    "# Add a channels dimension\n",
    "x_train = x_train[..., tf.newaxis].astype(\"float32\")\n",
    "x_test = x_test[..., tf.newaxis].astype(\"float32\")\n",
    "\n",
    "print(\"train size: {}, test size: {}\".format(len(x_train), len(x_test)))\n"
   ]
  },
  {
   "cell_type": "markdown",
   "metadata": {
    "id": "k1Evqx0S22r_"
   },
   "source": [
    "Use `tf.data` to batch and shuffle the dataset:"
   ]
  },
  {
   "cell_type": "code",
   "execution_count": 5,
   "metadata": {
    "execution": {
     "iopub.execute_input": "2020-10-08T01:23:04.364209Z",
     "iopub.status.busy": "2020-10-08T01:23:04.363416Z",
     "iopub.status.idle": "2020-10-08T01:23:04.387872Z",
     "shell.execute_reply": "2020-10-08T01:23:04.388252Z"
    },
    "id": "8Iu_quO024c2"
   },
   "outputs": [],
   "source": [
    "train_ds = tf.data.Dataset.from_tensor_slices(\n",
    "    (x_train, y_train)).shuffle(100).batch(16)\n",
    "\n",
    "test_ds = tf.data.Dataset.from_tensor_slices((x_test, y_test)).batch(16)"
   ]
  },
  {
   "cell_type": "code",
   "execution_count": 6,
   "metadata": {
    "execution": {
     "iopub.execute_input": "2020-10-08T01:23:04.395483Z",
     "iopub.status.busy": "2020-10-08T01:23:04.394652Z",
     "iopub.status.idle": "2020-10-08T01:23:04.689865Z",
     "shell.execute_reply": "2020-10-08T01:23:04.690256Z"
    },
    "id": "h3IKyzTCDNGo"
   },
   "outputs": [],
   "source": [
    "class MyModel(Model):\n",
    "  def __init__(self):\n",
    "    super(MyModel, self).__init__()\n",
    "    self.conv1 = Conv2D(32, 3, activation='relu')\n",
    "    self.flatten = Flatten()\n",
    "    self.d1 = Dense(64, activation='relu')\n",
    "    self.d2 = Dense(2)\n",
    "\n",
    "  def call(self, x):\n",
    "    x = self.conv1(x)\n",
    "    x = self.flatten(x)\n",
    "    x = self.d1(x)\n",
    "    return self.d2(x)\n",
    "\n",
    "# Create an instance of the model\n",
    "model = MyModel()"
   ]
  },
  {
   "cell_type": "markdown",
   "metadata": {
    "id": "uGih-c2LgbJu"
   },
   "source": [
    "Choose an optimizer and loss function for training: "
   ]
  },
  {
   "cell_type": "code",
   "execution_count": 7,
   "metadata": {
    "execution": {
     "iopub.execute_input": "2020-10-08T01:23:04.697138Z",
     "iopub.status.busy": "2020-10-08T01:23:04.696529Z",
     "iopub.status.idle": "2020-10-08T01:23:04.698387Z",
     "shell.execute_reply": "2020-10-08T01:23:04.698787Z"
    },
    "id": "u48C9WQ774n4"
   },
   "outputs": [],
   "source": [
    "loss_object = tf.keras.losses.SparseCategoricalCrossentropy(from_logits=True)\n",
    "\n",
    "optimizer = tf.keras.optimizers.Adam()"
   ]
  },
  {
   "cell_type": "markdown",
   "metadata": {
    "id": "JB6A1vcigsIe"
   },
   "source": [
    "Select metrics to measure the loss and the accuracy of the model. These metrics accumulate the values over epochs and then print the overall result."
   ]
  },
  {
   "cell_type": "code",
   "execution_count": 8,
   "metadata": {
    "execution": {
     "iopub.execute_input": "2020-10-08T01:23:04.708701Z",
     "iopub.status.busy": "2020-10-08T01:23:04.708038Z",
     "iopub.status.idle": "2020-10-08T01:23:04.731817Z",
     "shell.execute_reply": "2020-10-08T01:23:04.732252Z"
    },
    "id": "N0MqHFb4F_qn"
   },
   "outputs": [],
   "source": [
    "train_loss = tf.keras.metrics.Mean(name='train_loss')\n",
    "train_accuracy = tf.keras.metrics.SparseCategoricalAccuracy(name='train_accuracy')\n",
    "\n",
    "test_loss = tf.keras.metrics.Mean(name='test_loss')\n",
    "test_accuracy = tf.keras.metrics.SparseCategoricalAccuracy(name='test_accuracy')"
   ]
  },
  {
   "cell_type": "markdown",
   "metadata": {
    "id": "ix4mEL65on-w"
   },
   "source": [
    "Use `tf.GradientTape` to train the model:"
   ]
  },
  {
   "cell_type": "code",
   "execution_count": 9,
   "metadata": {
    "execution": {
     "iopub.execute_input": "2020-10-08T01:23:04.738604Z",
     "iopub.status.busy": "2020-10-08T01:23:04.737924Z",
     "iopub.status.idle": "2020-10-08T01:23:04.739923Z",
     "shell.execute_reply": "2020-10-08T01:23:04.739425Z"
    },
    "id": "OZACiVqA8KQV"
   },
   "outputs": [],
   "source": [
    "@tf.function\n",
    "def train_step(images, labels):\n",
    "  with tf.GradientTape() as tape:\n",
    "    # training=True is only needed if there are layers with different\n",
    "    # behavior during training versus inference (e.g. Dropout).\n",
    "    predictions = model(images, training=True)\n",
    "    loss = loss_object(labels, predictions)\n",
    "  gradients = tape.gradient(loss, model.trainable_variables)\n",
    "  optimizer.apply_gradients(zip(gradients, model.trainable_variables))\n",
    "\n",
    "  train_loss(loss)\n",
    "  train_accuracy(labels, predictions)"
   ]
  },
  {
   "cell_type": "markdown",
   "metadata": {
    "id": "Z8YT7UmFgpjV"
   },
   "source": [
    "Test the model:"
   ]
  },
  {
   "cell_type": "code",
   "execution_count": 10,
   "metadata": {
    "execution": {
     "iopub.execute_input": "2020-10-08T01:23:04.744781Z",
     "iopub.status.busy": "2020-10-08T01:23:04.744084Z",
     "iopub.status.idle": "2020-10-08T01:23:04.745839Z",
     "shell.execute_reply": "2020-10-08T01:23:04.746244Z"
    },
    "id": "xIKdEzHAJGt7"
   },
   "outputs": [],
   "source": [
    "@tf.function\n",
    "def test_step(images, labels):\n",
    "  # training=False is only needed if there are layers with different\n",
    "  # behavior during training versus inference (e.g. Dropout).\n",
    "  predictions = model(images, training=False)\n",
    "  t_loss = loss_object(labels, predictions)\n",
    "\n",
    "  test_loss(t_loss)\n",
    "  test_accuracy(labels, predictions)"
   ]
  },
  {
   "cell_type": "code",
   "execution_count": 11,
   "metadata": {
    "execution": {
     "iopub.execute_input": "2020-10-08T01:23:04.751851Z",
     "iopub.status.busy": "2020-10-08T01:23:04.751182Z",
     "iopub.status.idle": "2020-10-08T01:23:20.841977Z",
     "shell.execute_reply": "2020-10-08T01:23:20.841365Z"
    },
    "id": "i-2pkctU_Ci7"
   },
   "outputs": [
    {
     "name": "stdout",
     "output_type": "stream",
     "text": [
      "Epoch 1,  Loss: 1.7011065483093262,  Accuracy: 90.28607940673828,  Test Loss: 0.16085077822208405,  Test Accuracy: 94.02730560302734\n",
      "Epoch 2,  Loss: 0.09782040864229202,  Accuracy: 96.58411407470703,  Test Loss: 0.17078515887260437,  Test Accuracy: 94.62457275390625\n",
      "Epoch 3,  Loss: 0.038599178194999695,  Accuracy: 98.84713745117188,  Test Loss: 0.172670379281044,  Test Accuracy: 94.62457275390625\n",
      "Epoch 4,  Loss: 0.019333399832248688,  Accuracy: 99.48761749267578,  Test Loss: 0.19332608580589294,  Test Accuracy: 94.11262512207031\n",
      "Epoch 5,  Loss: 0.015553709119558334,  Accuracy: 99.6370620727539,  Test Loss: 0.24246974289417267,  Test Accuracy: 93.77133178710938\n",
      "Epoch 6,  Loss: 0.007386047393083572,  Accuracy: 99.87190246582031,  Test Loss: 0.19891250133514404,  Test Accuracy: 94.88054656982422\n",
      "Epoch 7,  Loss: 0.00484649371355772,  Accuracy: 99.91460418701172,  Test Loss: 0.29983845353126526,  Test Accuracy: 92.7474365234375\n",
      "Epoch 8,  Loss: 0.027490580454468727,  Accuracy: 99.0392837524414,  Test Loss: 0.2242530882358551,  Test Accuracy: 93.85665893554688\n",
      "Epoch 9,  Loss: 0.07539732754230499,  Accuracy: 97.67292785644531,  Test Loss: 0.24854670464992523,  Test Accuracy: 93.68600463867188\n",
      "Epoch 10,  Loss: 0.0849819928407669,  Accuracy: 97.11784362792969,  Test Loss: 0.19069190323352814,  Test Accuracy: 93.85665893554688\n",
      "Epoch 11,  Loss: 0.03135707229375839,  Accuracy: 98.88983917236328,  Test Loss: 0.2176198959350586,  Test Accuracy: 93.6006851196289\n",
      "Epoch 12,  Loss: 0.006257671397179365,  Accuracy: 99.89325714111328,  Test Loss: 0.21491453051567078,  Test Accuracy: 94.19795227050781\n",
      "Epoch 13,  Loss: 0.0040982989594340324,  Accuracy: 99.93595123291016,  Test Loss: 0.2586659789085388,  Test Accuracy: 93.94197845458984\n",
      "Epoch 14,  Loss: 0.001455550198443234,  Accuracy: 99.97865295410156,  Test Loss: 0.23785807192325592,  Test Accuracy: 95.05119323730469\n",
      "Epoch 15,  Loss: 0.0004860836488660425,  Accuracy: 100.0,  Test Loss: 0.25180959701538086,  Test Accuracy: 94.62457275390625\n",
      "Epoch 16,  Loss: 0.00013458645844366401,  Accuracy: 100.0,  Test Loss: 0.2526385188102722,  Test Accuracy: 94.79521942138672\n",
      "Epoch 17,  Loss: 9.725893323775381e-05,  Accuracy: 100.0,  Test Loss: 0.25554755330085754,  Test Accuracy: 94.62457275390625\n",
      "Epoch 18,  Loss: 7.517874473705888e-05,  Accuracy: 100.0,  Test Loss: 0.25811973214149475,  Test Accuracy: 94.70989990234375\n",
      "Epoch 19,  Loss: 6.069687879062258e-05,  Accuracy: 100.0,  Test Loss: 0.2605065703392029,  Test Accuracy: 94.62457275390625\n",
      "Epoch 20,  Loss: 4.954554606229067e-05,  Accuracy: 100.0,  Test Loss: 0.2628990411758423,  Test Accuracy: 94.79521942138672\n",
      "Epoch 21,  Loss: 4.237275425111875e-05,  Accuracy: 100.0,  Test Loss: 0.26516541838645935,  Test Accuracy: 94.70989990234375\n",
      "Epoch 22,  Loss: 3.532120899762958e-05,  Accuracy: 100.0,  Test Loss: 0.2674393951892853,  Test Accuracy: 94.70989990234375\n",
      "Epoch 23,  Loss: 2.9730956157436594e-05,  Accuracy: 100.0,  Test Loss: 0.2699379622936249,  Test Accuracy: 94.88054656982422\n",
      "Epoch 24,  Loss: 2.4987535653053783e-05,  Accuracy: 100.0,  Test Loss: 0.27241915464401245,  Test Accuracy: 94.88054656982422\n",
      "Epoch 25,  Loss: 2.179629518650472e-05,  Accuracy: 100.0,  Test Loss: 0.27502402663230896,  Test Accuracy: 95.05119323730469\n",
      "Epoch 26,  Loss: 1.8288326828042045e-05,  Accuracy: 100.0,  Test Loss: 0.27725115418434143,  Test Accuracy: 94.96586608886719\n",
      "Epoch 27,  Loss: 1.5845876987441443e-05,  Accuracy: 100.0,  Test Loss: 0.28018516302108765,  Test Accuracy: 94.96586608886719\n",
      "Epoch 28,  Loss: 1.3576544006355107e-05,  Accuracy: 100.0,  Test Loss: 0.2827123701572418,  Test Accuracy: 95.05119323730469\n",
      "Epoch 29,  Loss: 1.141467691923026e-05,  Accuracy: 100.0,  Test Loss: 0.28520137071609497,  Test Accuracy: 94.96586608886719\n",
      "Epoch 30,  Loss: 9.610883353161626e-06,  Accuracy: 100.0,  Test Loss: 0.2880703806877136,  Test Accuracy: 94.96586608886719\n"
     ]
    }
   ],
   "source": [
    "EPOCHS = 30\n",
    "\n",
    "for epoch in range(EPOCHS):\n",
    "  # Reset the metrics at the start of the next epoch\n",
    "  train_loss.reset_states()\n",
    "  train_accuracy.reset_states()\n",
    "  test_loss.reset_states()\n",
    "  test_accuracy.reset_states()\n",
    "\n",
    "  for images, labels in train_ds:\n",
    "    train_step(images, labels)\n",
    "\n",
    "  for test_images, test_labels in test_ds:\n",
    "    test_step(test_images, test_labels)\n",
    "\n",
    "  print(\n",
    "    'Epoch {}, '.format(epoch + 1),\n",
    "    'Loss: {}, '.format(train_loss.result()),\n",
    "    'Accuracy: {}, '.format(train_accuracy.result() * 100),\n",
    "    'Test Loss: {}, '.format(test_loss.result()),\n",
    "    'Test Accuracy: {}'.format(test_accuracy.result() * 100)\n",
    "  )"
   ]
  },
  {
   "cell_type": "code",
   "execution_count": null,
   "metadata": {},
   "outputs": [],
   "source": []
  }
 ],
 "metadata": {
  "accelerator": "GPU",
  "colab": {
   "collapsed_sections": [],
   "name": "advanced.ipynb",
   "toc_visible": true
  },
  "kernelspec": {
   "display_name": "Python 3",
   "language": "python",
   "name": "python3"
  },
  "language_info": {
   "codemirror_mode": {
    "name": "ipython",
    "version": 3
   },
   "file_extension": ".py",
   "mimetype": "text/x-python",
   "name": "python",
   "nbconvert_exporter": "python",
   "pygments_lexer": "ipython3",
   "version": "3.5.6"
  }
 },
 "nbformat": 4,
 "nbformat_minor": 1
}

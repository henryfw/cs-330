{
 "cells": [
  {
   "cell_type": "markdown",
   "metadata": {
    "id": "3wF5wszaj97Y"
   },
   "source": [
    "# Multiple Task Pneumonia & TB"
   ]
  },
  {
   "cell_type": "code",
   "execution_count": 1,
   "metadata": {
    "execution": {
     "iopub.execute_input": "2020-10-08T01:22:49.877792Z",
     "iopub.status.busy": "2020-10-08T01:22:49.877115Z",
     "iopub.status.idle": "2020-10-08T01:22:55.969522Z",
     "shell.execute_reply": "2020-10-08T01:22:55.968963Z"
    },
    "id": "0trJmd6DjqBZ"
   },
   "outputs": [],
   "source": [
    "import tensorflow as tf\n",
    "\n",
    "\n",
    "gpus = tf.config.experimental.list_physical_devices('GPU')\n",
    "tf.config.experimental.set_memory_growth(gpus[0], True)\n",
    "tf.config.experimental.set_virtual_device_configuration(gpus[0], [tf.config.experimental.VirtualDeviceConfiguration(memory_limit=3999)])\n",
    " \n",
    "\n",
    "from tensorflow.keras.layers import Dense, Flatten, Conv2D\n",
    "from tensorflow.keras import Model"
   ]
  },
  {
   "cell_type": "code",
   "execution_count": 2,
   "metadata": {},
   "outputs": [
    {
     "name": "stdout",
     "output_type": "stream",
     "text": [
      "WARNING:tensorflow:From <ipython-input-2-25452c320fbf>:2: is_gpu_available (from tensorflow.python.framework.test_util) is deprecated and will be removed in a future version.\n",
      "Instructions for updating:\n",
      "Use `tf.config.list_physical_devices('GPU')` instead.\n",
      "Is your GPU available for use?\n",
      "Yes, your GPU is available: True\n",
      "\n",
      "Your devices that are available:\n",
      "['/physical_device:CPU:0', '/physical_device:XLA_CPU:0', '/physical_device:GPU:0', '/physical_device:XLA_GPU:0']\n"
     ]
    }
   ],
   "source": [
    "print(('Is your GPU available for use?\\n{0}').format(\n",
    "    'Yes, your GPU is available: True' if tf.test.is_gpu_available() == True else 'No, your GPU is NOT available: False'\n",
    "))\n",
    "\n",
    "print(('\\nYour devices that are available:\\n{0}').format(\n",
    "    [device.name for device in tf.config.experimental.list_physical_devices()]\n",
    "))"
   ]
  },
  {
   "cell_type": "markdown",
   "metadata": {
    "id": "7NAbSZiaoJ4z"
   },
   "source": [
    "Load and prepare data"
   ]
  },
  {
   "cell_type": "code",
   "execution_count": 3,
   "metadata": {},
   "outputs": [],
   "source": [
    "import cv2 as cv\n",
    "import pickle\n",
    "import random\n",
    "import numpy as np\n",
    " "
   ]
  },
  {
   "cell_type": "code",
   "execution_count": 4,
   "metadata": {
    "execution": {
     "iopub.execute_input": "2020-10-08T01:22:55.975638Z",
     "iopub.status.busy": "2020-10-08T01:22:55.974545Z",
     "iopub.status.idle": "2020-10-08T01:22:56.930680Z",
     "shell.execute_reply": "2020-10-08T01:22:56.931142Z"
    },
    "id": "JqFRS6K07jJs"
   },
   "outputs": [
    {
     "name": "stdout",
     "output_type": "stream",
     "text": [
      "Train size: 8921, test size: 2231\n",
      "tb1_data size: 5296, p_data size: 5856\n"
     ]
    }
   ],
   "source": [
    "tb1_data = pickle.load( open( \"C:/Users/uprz2/Downloads/cs330/data/tb1-256-grayscale\", \"rb\" ) )\n",
    "\n",
    "p_data = pickle.load( open( \"C:/Users/uprz2/Downloads/cs330/data/pneumonia-256-grayscale\", \"rb\" ) )\n",
    " \n",
    "# duplicate to have equal amounts\n",
    "for i in range(3):\n",
    "    tb1_data = tb1_data + tb1_data\n",
    "\n",
    "x_data = []\n",
    "y_data_tb1 = []\n",
    "y_data_p = []\n",
    "\n",
    "for v in tb1_data:\n",
    "    x_data.append( v[0] )\n",
    "    y_data_tb1.append(v[1])\n",
    "    y_data_p.append(0)\n",
    "    \n",
    "\n",
    "for v in p_data:\n",
    "    x_data.append( v[0] )\n",
    "    y_data_tb1.append(0)\n",
    "    y_data_p.append(v[1])\n",
    "\n",
    "x_data = np.array(x_data)\n",
    "y_data_tb1 = np.array(y_data_tb1)\n",
    "y_data_p = np.array(y_data_p)\n",
    "\n",
    "s = np.arange(len(x_data))\n",
    "np.random.shuffle(s)\n",
    "\n",
    "x_data = x_data[s]\n",
    "y_data_tb1 = y_data_tb1[s]\n",
    "y_data_p = y_data_p[s]\n",
    "\n",
    "\n",
    "fraction_train = 0.8\n",
    "train_size = int(len(x_data) * fraction_train)\n",
    "\n",
    "x_train = x_data[0: train_size]/ 255.0\n",
    "y_train_tb1 = y_data_tb1[0: train_size]\n",
    "y_train_p = y_data_p[0: train_size]\n",
    "\n",
    "\n",
    "\n",
    "x_test = np.array(x_data[train_size:]) / 255.0\n",
    "y_test_tb1 = np.array(y_data_tb1[train_size:])\n",
    "y_test_p = np.array(y_data_p[train_size:])\n",
    "\n",
    "\n",
    "\n",
    "# Add a channels dimension\n",
    "x_train = x_train[..., tf.newaxis].astype(\"float32\")\n",
    "x_test = x_test[..., tf.newaxis].astype(\"float32\")\n",
    "\n",
    "\n",
    "print(\"Train size: {}, test size: {}\".format(len(x_train), len(x_test)))\n",
    "\n",
    "print(\"tb1_data size: {}, p_data size: {}\".format(len(tb1_data), len(p_data)))\n"
   ]
  },
  {
   "cell_type": "code",
   "execution_count": 5,
   "metadata": {
    "execution": {
     "iopub.execute_input": "2020-10-08T01:23:04.395483Z",
     "iopub.status.busy": "2020-10-08T01:23:04.394652Z",
     "iopub.status.idle": "2020-10-08T01:23:04.689865Z",
     "shell.execute_reply": "2020-10-08T01:23:04.690256Z"
    },
    "id": "h3IKyzTCDNGo",
    "scrolled": false
   },
   "outputs": [
    {
     "name": "stdout",
     "output_type": "stream",
     "text": [
      "Epoch 1/30\n",
      "   2/1116 [..............................] - ETA: 55s - pneumonia_loss: 25.9367 - tb1_loss: 77.3434 - pneumonia_accuracy: 0.4375 - tb1_accuracy: 0.8125 - loss: 103.2801WARNING:tensorflow:Callbacks method `on_train_batch_end` is slow compared to the batch time (batch time: 0.0270s vs `on_train_batch_end` time: 0.0710s). Check your callbacks.\n",
      "1116/1116 [==============================] - 110s 98ms/step - pneumonia_loss: 0.3531 - tb1_loss: 0.5931 - pneumonia_accuracy: 0.9315 - tb1_accuracy: 0.8561 - loss: 0.9462\n",
      "Epoch 2/30\n",
      "1116/1116 [==============================] - 109s 98ms/step - pneumonia_loss: 0.0751 - tb1_loss: 0.1746 - pneumonia_accuracy: 0.9751 - tb1_accuracy: 0.9409 - loss: 0.2497\n",
      "Epoch 3/30\n",
      "1116/1116 [==============================] - 110s 99ms/step - pneumonia_loss: 0.0518 - tb1_loss: 0.1142 - pneumonia_accuracy: 0.9812 - tb1_accuracy: 0.9692 - loss: 0.1660\n",
      "Epoch 4/30\n",
      "1116/1116 [==============================] - 110s 99ms/step - pneumonia_loss: 0.0234 - tb1_loss: 0.0570 - pneumonia_accuracy: 0.9932 - tb1_accuracy: 0.9890 - loss: 0.0804\n",
      "Epoch 5/30\n",
      "1116/1116 [==============================] - 110s 99ms/step - pneumonia_loss: 0.0466 - tb1_loss: 0.0632 - pneumonia_accuracy: 0.9888 - tb1_accuracy: 0.9837 - loss: 0.1099\n",
      "Epoch 6/30\n",
      "1116/1116 [==============================] - 110s 99ms/step - pneumonia_loss: 0.0072 - tb1_loss: 0.0399 - pneumonia_accuracy: 0.9983 - tb1_accuracy: 0.9915 - loss: 0.0471\n",
      "Epoch 7/30\n",
      "1116/1116 [==============================] - 110s 99ms/step - pneumonia_loss: 0.0203 - tb1_loss: 0.0564 - pneumonia_accuracy: 0.9931 - tb1_accuracy: 0.9865 - loss: 0.0768\n",
      "Epoch 8/30\n",
      "1116/1116 [==============================] - 110s 99ms/step - pneumonia_loss: 0.0022 - tb1_loss: 0.0201 - pneumonia_accuracy: 0.9996 - tb1_accuracy: 0.9966 - loss: 0.0223\n",
      "Epoch 9/30\n",
      "1116/1116 [==============================] - 110s 99ms/step - pneumonia_loss: 0.0274 - tb1_loss: 0.0301 - pneumonia_accuracy: 0.9910 - tb1_accuracy: 0.9936 - loss: 0.0574\n",
      "Epoch 10/30\n",
      "1116/1116 [==============================] - 110s 99ms/step - pneumonia_loss: 0.0037 - tb1_loss: 0.0056 - pneumonia_accuracy: 0.9992 - tb1_accuracy: 0.9981 - loss: 0.0093\n",
      "Epoch 11/30\n",
      "1116/1116 [==============================] - 110s 99ms/step - pneumonia_loss: 0.0155 - tb1_loss: 0.0041 - pneumonia_accuracy: 0.9965 - tb1_accuracy: 0.9990 - loss: 0.0196\n",
      "Epoch 12/30\n",
      "1116/1116 [==============================] - 110s 99ms/step - pneumonia_loss: 0.0018 - tb1_loss: 1.9295e-04 - pneumonia_accuracy: 0.9997 - tb1_accuracy: 1.0000 - loss: 0.0020\n",
      "Epoch 13/30\n",
      "1116/1116 [==============================] - 110s 99ms/step - pneumonia_loss: 1.0102e-04 - tb1_loss: 2.7308e-05 - pneumonia_accuracy: 1.0000 - tb1_accuracy: 1.0000 - loss: 1.2833e-04\n",
      "Epoch 14/30\n",
      "1116/1116 [==============================] - 110s 99ms/step - pneumonia_loss: 3.3871e-05 - tb1_loss: 1.2384e-05 - pneumonia_accuracy: 1.0000 - tb1_accuracy: 1.0000 - loss: 4.6256e-05\n",
      "Epoch 15/30\n",
      "1116/1116 [==============================] - 110s 99ms/step - pneumonia_loss: 1.5533e-05 - tb1_loss: 6.1725e-06 - pneumonia_accuracy: 1.0000 - tb1_accuracy: 1.0000 - loss: 2.1706e-05\n",
      "Epoch 16/30\n",
      "1116/1116 [==============================] - 110s 99ms/step - pneumonia_loss: 6.7691e-06 - tb1_loss: 3.3393e-06 - pneumonia_accuracy: 1.0000 - tb1_accuracy: 1.0000 - loss: 1.0108e-05\n",
      "Epoch 17/30\n",
      "1116/1116 [==============================] - 110s 99ms/step - pneumonia_loss: 3.8188e-06 - tb1_loss: 1.8004e-06 - pneumonia_accuracy: 1.0000 - tb1_accuracy: 1.0000 - loss: 5.6192e-06\n",
      "Epoch 18/30\n",
      "1116/1116 [==============================] - 110s 99ms/step - pneumonia_loss: 1.9855e-06 - tb1_loss: 1.0674e-06 - pneumonia_accuracy: 1.0000 - tb1_accuracy: 1.0000 - loss: 3.0529e-06\n",
      "Epoch 19/30\n",
      "1116/1116 [==============================] - 110s 99ms/step - pneumonia_loss: 1.1283e-06 - tb1_loss: 6.2024e-07 - pneumonia_accuracy: 1.0000 - tb1_accuracy: 1.0000 - loss: 1.7485e-06\n",
      "Epoch 20/30\n",
      "1116/1116 [==============================] - 110s 99ms/step - pneumonia_loss: 6.2538e-07 - tb1_loss: 3.7326e-07 - pneumonia_accuracy: 1.0000 - tb1_accuracy: 1.0000 - loss: 9.9864e-07\n",
      "Epoch 21/30\n",
      "1116/1116 [==============================] - 110s 99ms/step - pneumonia_loss: 3.6646e-07 - tb1_loss: 2.2188e-07 - pneumonia_accuracy: 1.0000 - tb1_accuracy: 1.0000 - loss: 5.8833e-07\n",
      "Epoch 22/30\n",
      "1116/1116 [==============================] - 110s 99ms/step - pneumonia_loss: 3.4408e-07 - tb1_loss: 1.8439e-07 - pneumonia_accuracy: 1.0000 - tb1_accuracy: 1.0000 - loss: 5.2848e-07\n",
      "Epoch 23/30\n",
      "1116/1116 [==============================] - 110s 99ms/step - pneumonia_loss: 2.1774e-07 - tb1_loss: 1.4213e-07 - pneumonia_accuracy: 1.0000 - tb1_accuracy: 1.0000 - loss: 3.5987e-07\n",
      "Epoch 24/30\n",
      "1116/1116 [==============================] - 110s 99ms/step - pneumonia_loss: 7.8546e-08 - tb1_loss: 5.2943e-08 - pneumonia_accuracy: 1.0000 - tb1_accuracy: 1.0000 - loss: 1.3149e-07\n",
      "Epoch 25/30\n",
      "1116/1116 [==============================] - 110s 99ms/step - pneumonia_loss: 5.3451e-08 - tb1_loss: 3.4636e-08 - pneumonia_accuracy: 1.0000 - tb1_accuracy: 1.0000 - loss: 8.8087e-08\n",
      "Epoch 26/30\n",
      "1116/1116 [==============================] - 110s 99ms/step - pneumonia_loss: 3.5852e-08 - tb1_loss: 2.1287e-08 - pneumonia_accuracy: 1.0000 - tb1_accuracy: 1.0000 - loss: 5.7139e-08\n",
      "Epoch 27/30\n",
      "1116/1116 [==============================] - 110s 99ms/step - pneumonia_loss: 0.0728 - tb1_loss: 0.1176 - pneumonia_accuracy: 0.9975 - tb1_accuracy: 0.9953 - loss: 0.1903\n",
      "Epoch 28/30\n",
      "1116/1116 [==============================] - 110s 99ms/step - pneumonia_loss: 0.0112 - tb1_loss: 0.0289 - pneumonia_accuracy: 0.9972 - tb1_accuracy: 0.9922 - loss: 0.0401\n",
      "Epoch 29/30\n",
      "1116/1116 [==============================] - 110s 99ms/step - pneumonia_loss: 3.5956e-05 - tb1_loss: 4.7631e-05 - pneumonia_accuracy: 1.0000 - tb1_accuracy: 1.0000 - loss: 8.3587e-05\n",
      "Epoch 30/30\n",
      "1116/1116 [==============================] - 110s 99ms/step - pneumonia_loss: 9.2282e-06 - tb1_loss: 1.9104e-05 - pneumonia_accuracy: 1.0000 - tb1_accuracy: 1.0000 - loss: 2.8332e-05\n",
      "Evaluation: \n",
      "['loss', 'tb1_loss', 'pneumonia_loss', 'tb1_accuracy', 'pneumonia_accuracy']\n",
      "279/279 [==============================] - 8s 29ms/step - pneumonia_loss: 0.1952 - tb1_loss: 0.0036 - pneumonia_accuracy: 0.9713 - tb1_accuracy: 0.9982 - loss: 0.1988\n"
     ]
    },
    {
     "data": {
      "text/plain": [
       "[0.1988062709569931,\n",
       " 0.0035671070218086243,\n",
       " 0.1952391415834427,\n",
       " 0.9982070922851562,\n",
       " 0.9713132977485657]"
      ]
     },
     "execution_count": 5,
     "metadata": {},
     "output_type": "execute_result"
    }
   ],
   "source": [
    "from tensorflow.keras.models import Model\n",
    "from tensorflow.keras.layers import Input\n",
    "\n",
    "\n",
    "tf.keras.backend.clear_session()\n",
    "\n",
    "model_input = Input(shape=(256, 256, 1))\n",
    "shared = Conv2D(32, 3, activation='relu')(model_input)\n",
    "shared = Flatten()(shared)\n",
    "y1 = Dense(64, activation='relu')(shared)\n",
    "y1 = Dense(2, name='tb1')(y1)\n",
    "\n",
    "y2 = Dense(64, activation='relu')(shared)\n",
    "y2 = Dense(2, name='pneumonia')(y2)\n",
    "\n",
    "model = Model(inputs=model_input, outputs=[y1, y2])\n",
    "\n",
    "loss_list =[tf.keras.losses.SparseCategoricalCrossentropy(from_logits=True), tf.keras.losses.SparseCategoricalCrossentropy(from_logits=True)]\n",
    "test_metrics = {'tb1': 'accuracy', 'pneumonia': 'accuracy' }\n",
    "model.compile(loss=loss_list,optimizer='adam',metrics=test_metrics)\n",
    "\n",
    "\n",
    "model.fit(x_train, [y_train_tb1, y_train_p], batch_size=8, epochs=30)\n",
    "\n",
    "\n",
    "\n",
    "print(\"Evaluation: \")\n",
    "print(model.metrics_names)\n",
    "\n",
    "model.evaluate(x_test, [y_test_tb1, y_test_p], batch_size=8)\n",
    "\n",
    "\n",
    "                                "
   ]
  },
  {
   "cell_type": "code",
   "execution_count": null,
   "metadata": {},
   "outputs": [],
   "source": []
  },
  {
   "cell_type": "code",
   "execution_count": null,
   "metadata": {},
   "outputs": [],
   "source": []
  }
 ],
 "metadata": {
  "accelerator": "GPU",
  "colab": {
   "collapsed_sections": [],
   "name": "advanced.ipynb",
   "toc_visible": true
  },
  "kernelspec": {
   "display_name": "Python 3",
   "language": "python",
   "name": "python3"
  },
  "language_info": {
   "codemirror_mode": {
    "name": "ipython",
    "version": 3
   },
   "file_extension": ".py",
   "mimetype": "text/x-python",
   "name": "python",
   "nbconvert_exporter": "python",
   "pygments_lexer": "ipython3",
   "version": "3.5.6"
  }
 },
 "nbformat": 4,
 "nbformat_minor": 1
}

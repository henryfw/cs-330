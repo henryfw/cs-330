{
 "cells": [
  {
   "cell_type": "markdown",
   "metadata": {
    "id": "3wF5wszaj97Y"
   },
   "source": [
    "# Multiple Task Pneumonia & TB"
   ]
  },
  {
   "cell_type": "code",
   "execution_count": 1,
   "metadata": {
    "execution": {
     "iopub.execute_input": "2020-10-08T01:22:49.877792Z",
     "iopub.status.busy": "2020-10-08T01:22:49.877115Z",
     "iopub.status.idle": "2020-10-08T01:22:55.969522Z",
     "shell.execute_reply": "2020-10-08T01:22:55.968963Z"
    },
    "id": "0trJmd6DjqBZ"
   },
   "outputs": [],
   "source": [
    "import tensorflow as tf\n",
    "\n",
    "\n",
    "gpus = tf.config.experimental.list_physical_devices('GPU')\n",
    "tf.config.experimental.set_memory_growth(gpus[0], True)\n",
    "tf.config.experimental.set_virtual_device_configuration(gpus[0], [tf.config.experimental.VirtualDeviceConfiguration(memory_limit=3999)])\n",
    " \n",
    "\n",
    "from tensorflow.keras.layers import Dense, Flatten, Conv2D\n",
    "from tensorflow.keras import Model"
   ]
  },
  {
   "cell_type": "code",
   "execution_count": 2,
   "metadata": {},
   "outputs": [
    {
     "name": "stdout",
     "output_type": "stream",
     "text": [
      "WARNING:tensorflow:From <ipython-input-2-25452c320fbf>:2: is_gpu_available (from tensorflow.python.framework.test_util) is deprecated and will be removed in a future version.\n",
      "Instructions for updating:\n",
      "Use `tf.config.list_physical_devices('GPU')` instead.\n",
      "Is your GPU available for use?\n",
      "Yes, your GPU is available: True\n",
      "\n",
      "Your devices that are available:\n",
      "['/physical_device:CPU:0', '/physical_device:XLA_CPU:0', '/physical_device:GPU:0', '/physical_device:XLA_GPU:0']\n"
     ]
    }
   ],
   "source": [
    "print(('Is your GPU available for use?\\n{0}').format(\n",
    "    'Yes, your GPU is available: True' if tf.test.is_gpu_available() == True else 'No, your GPU is NOT available: False'\n",
    "))\n",
    "\n",
    "print(('\\nYour devices that are available:\\n{0}').format(\n",
    "    [device.name for device in tf.config.experimental.list_physical_devices()]\n",
    "))"
   ]
  },
  {
   "cell_type": "markdown",
   "metadata": {
    "id": "7NAbSZiaoJ4z"
   },
   "source": [
    "Load and prepare data"
   ]
  },
  {
   "cell_type": "code",
   "execution_count": 3,
   "metadata": {},
   "outputs": [],
   "source": [
    "import cv2 as cv\n",
    "import pickle\n",
    "import random\n",
    "import numpy as np\n",
    " "
   ]
  },
  {
   "cell_type": "code",
   "execution_count": 4,
   "metadata": {
    "execution": {
     "iopub.execute_input": "2020-10-08T01:22:55.975638Z",
     "iopub.status.busy": "2020-10-08T01:22:55.974545Z",
     "iopub.status.idle": "2020-10-08T01:22:56.930680Z",
     "shell.execute_reply": "2020-10-08T01:22:56.931142Z"
    },
    "id": "JqFRS6K07jJs"
   },
   "outputs": [
    {
     "name": "stdout",
     "output_type": "stream",
     "text": [
      "Train size: 5214, test size: 1304\n",
      "tb1_data size: 662, p_data size: 5856\n"
     ]
    }
   ],
   "source": [
    "tb1_data = pickle.load( open( \"C:/Users/uprz2/Downloads/cs330/data/tb1-256-grayscale\", \"rb\" ) )\n",
    "\n",
    "p_data = pickle.load( open( \"C:/Users/uprz2/Downloads/cs330/data/pneumonia-256-grayscale\", \"rb\" ) )\n",
    " \n",
    "# duplicate to have equal amounts\n",
    "# for i in range(3):\n",
    "#     tb1_data = tb1_data + tb1_data\n",
    "\n",
    "x_data = []\n",
    "y_data_tb1 = []\n",
    "y_data_p = []\n",
    "\n",
    "for v in tb1_data:\n",
    "    x_data.append( v[0] )\n",
    "    y_data_tb1.append(v[1])\n",
    "    y_data_p.append(0)\n",
    "    \n",
    "\n",
    "for v in p_data:\n",
    "    x_data.append( v[0] )\n",
    "    y_data_tb1.append(0)\n",
    "    y_data_p.append(v[1])\n",
    "\n",
    "x_data = np.array(x_data)\n",
    "y_data_tb1 = np.array(y_data_tb1)\n",
    "y_data_p = np.array(y_data_p)\n",
    "\n",
    "s = np.arange(len(x_data))\n",
    "np.random.shuffle(s)\n",
    "\n",
    "x_data = x_data[s]\n",
    "y_data_tb1 = y_data_tb1[s]\n",
    "y_data_p = y_data_p[s]\n",
    "\n",
    "\n",
    "fraction_train = 0.8\n",
    "train_size = int(len(x_data) * fraction_train)\n",
    "\n",
    "x_train = x_data[0: train_size]/ 255.0\n",
    "y_train_tb1 = y_data_tb1[0: train_size]\n",
    "y_train_p = y_data_p[0: train_size]\n",
    "\n",
    "\n",
    "\n",
    "x_test = np.array(x_data[train_size:]) / 255.0\n",
    "y_test_tb1 = np.array(y_data_tb1[train_size:])\n",
    "y_test_p = np.array(y_data_p[train_size:])\n",
    "\n",
    "\n",
    "\n",
    "# Add a channels dimension\n",
    "x_train = x_train[..., tf.newaxis].astype(\"float32\")\n",
    "x_test = x_test[..., tf.newaxis].astype(\"float32\")\n",
    "\n",
    "\n",
    "print(\"Train size: {}, test size: {}\".format(len(x_train), len(x_test)))\n",
    "\n",
    "print(\"tb1_data size: {}, p_data size: {}\".format(len(tb1_data), len(p_data)))\n"
   ]
  },
  {
   "cell_type": "code",
   "execution_count": 5,
   "metadata": {
    "execution": {
     "iopub.execute_input": "2020-10-08T01:23:04.395483Z",
     "iopub.status.busy": "2020-10-08T01:23:04.394652Z",
     "iopub.status.idle": "2020-10-08T01:23:04.689865Z",
     "shell.execute_reply": "2020-10-08T01:23:04.690256Z"
    },
    "id": "h3IKyzTCDNGo",
    "scrolled": false
   },
   "outputs": [
    {
     "name": "stdout",
     "output_type": "stream",
     "text": [
      "Epoch 1/30\n",
      "652/652 [==============================] - 44s 68ms/step - loss: 1.4931 - tb1_accuracy: 0.9490 - pneumonia_loss: 0.9547 - pneumonia_accuracy: 0.8937 - tb1_loss: 0.5384\n",
      "Epoch 2/30\n",
      "652/652 [==============================] - 44s 68ms/step - loss: 0.1957 - tb1_accuracy: 0.9664 - pneumonia_loss: 0.1193 - pneumonia_accuracy: 0.9570 - tb1_loss: 0.0764\n",
      "Epoch 3/30\n",
      "652/652 [==============================] - 45s 68ms/step - loss: 0.1316 - tb1_accuracy: 0.9774 - pneumonia_loss: 0.0668 - pneumonia_accuracy: 0.9797 - tb1_loss: 0.0648\n",
      "Epoch 4/30\n",
      "652/652 [==============================] - 44s 68ms/step - loss: 0.1381 - tb1_accuracy: 0.9793 - pneumonia_loss: 0.0778 - pneumonia_accuracy: 0.9747 - tb1_loss: 0.0603\n",
      "Epoch 5/30\n",
      "652/652 [==============================] - 44s 68ms/step - loss: 0.0810 - tb1_accuracy: 0.9827 - pneumonia_loss: 0.0287 - pneumonia_accuracy: 0.9923 - tb1_loss: 0.0523\n",
      "Epoch 6/30\n",
      "652/652 [==============================] - 45s 69ms/step - loss: 0.0614 - tb1_accuracy: 0.9850 - pneumonia_loss: 0.0181 - pneumonia_accuracy: 0.9952 - tb1_loss: 0.0434\n",
      "Epoch 7/30\n",
      "652/652 [==============================] - 44s 68ms/step - loss: 0.0415 - tb1_accuracy: 0.9877 - pneumonia_loss: 0.0046 - pneumonia_accuracy: 0.9998 - tb1_loss: 0.0369\n",
      "Epoch 8/30\n",
      "652/652 [==============================] - 44s 67ms/step - loss: 0.0648 - tb1_accuracy: 0.9883 - pneumonia_loss: 0.0295 - pneumonia_accuracy: 0.9908 - tb1_loss: 0.0353\n",
      "Epoch 9/30\n",
      "652/652 [==============================] - 44s 68ms/step - loss: 0.0522 - tb1_accuracy: 0.9896 - pneumonia_loss: 0.0205 - pneumonia_accuracy: 0.9927 - tb1_loss: 0.0316\n",
      "Epoch 10/30\n",
      "652/652 [==============================] - 44s 68ms/step - loss: 0.0770 - tb1_accuracy: 0.9919 - pneumonia_loss: 0.0466 - pneumonia_accuracy: 0.9881 - tb1_loss: 0.0304\n",
      "Epoch 11/30\n",
      "652/652 [==============================] - 44s 68ms/step - loss: 0.0186 - tb1_accuracy: 0.9971 - pneumonia_loss: 0.0079 - pneumonia_accuracy: 0.9977 - tb1_loss: 0.0108\n",
      "Epoch 12/30\n",
      "652/652 [==============================] - 44s 68ms/step - loss: 0.0060 - tb1_accuracy: 0.9988 - pneumonia_loss: 0.0010 - pneumonia_accuracy: 0.9998 - tb1_loss: 0.0050\n",
      "Epoch 13/30\n",
      "652/652 [==============================] - 44s 68ms/step - loss: 0.0028 - tb1_accuracy: 0.9994 - pneumonia_loss: 2.9247e-04 - pneumonia_accuracy: 1.0000 - tb1_loss: 0.0025\n",
      "Epoch 14/30\n",
      "652/652 [==============================] - 44s 68ms/step - loss: 0.0017 - tb1_accuracy: 0.9994 - pneumonia_loss: 1.8448e-04 - pneumonia_accuracy: 1.0000 - tb1_loss: 0.0015\n",
      "Epoch 15/30\n",
      "652/652 [==============================] - 45s 68ms/step - loss: 0.0016 - tb1_accuracy: 0.9994 - pneumonia_loss: 2.9720e-04 - pneumonia_accuracy: 1.0000 - tb1_loss: 0.0013\n",
      "Epoch 16/30\n",
      "652/652 [==============================] - 44s 68ms/step - loss: 0.0014 - tb1_accuracy: 0.9994 - pneumonia_loss: 1.7923e-04 - pneumonia_accuracy: 1.0000 - tb1_loss: 0.0012\n",
      "Epoch 17/30\n",
      "652/652 [==============================] - 45s 68ms/step - loss: 0.5637 - tb1_accuracy: 0.9847 - pneumonia_loss: 0.4301 - pneumonia_accuracy: 0.8554 - tb1_loss: 0.1336\n",
      "Epoch 18/30\n",
      "652/652 [==============================] - 45s 69ms/step - loss: 0.3534 - tb1_accuracy: 0.9854 - pneumonia_loss: 0.3136 - pneumonia_accuracy: 0.8542 - tb1_loss: 0.0398\n",
      "Epoch 19/30\n",
      "652/652 [==============================] - 44s 68ms/step - loss: 0.0252 - tb1_accuracy: 0.9979 - pneumonia_loss: 0.0190 - pneumonia_accuracy: 0.9941 - tb1_loss: 0.0062\n",
      "Epoch 20/30\n",
      "652/652 [==============================] - 44s 68ms/step - loss: 0.0042 - tb1_accuracy: 0.9994 - pneumonia_loss: 0.0030 - pneumonia_accuracy: 1.0000 - tb1_loss: 0.0012\n",
      "Epoch 21/30\n",
      "652/652 [==============================] - 44s 68ms/step - loss: 0.0016 - tb1_accuracy: 0.9994 - pneumonia_loss: 6.6252e-04 - pneumonia_accuracy: 1.0000 - tb1_loss: 9.5407e-04\n",
      "Epoch 22/30\n",
      "652/652 [==============================] - 45s 68ms/step - loss: 0.0055 - tb1_accuracy: 0.9987 - pneumonia_loss: 0.0029 - pneumonia_accuracy: 0.9998 - tb1_loss: 0.0026\n",
      "Epoch 23/30\n",
      "652/652 [==============================] - 44s 68ms/step - loss: 0.0055 - tb1_accuracy: 0.9992 - pneumonia_loss: 0.0038 - pneumonia_accuracy: 0.9987 - tb1_loss: 0.0017\n",
      "Epoch 24/30\n",
      "652/652 [==============================] - 44s 68ms/step - loss: 0.0021 - tb1_accuracy: 0.9994 - pneumonia_loss: 8.7249e-04 - pneumonia_accuracy: 0.9998 - tb1_loss: 0.0013\n",
      "Epoch 25/30\n",
      "652/652 [==============================] - 44s 68ms/step - loss: 8.7754e-04 - tb1_accuracy: 0.9996 - pneumonia_loss: 2.0715e-04 - pneumonia_accuracy: 1.0000 - tb1_loss: 6.7039e-04\n",
      "Epoch 26/30\n",
      "652/652 [==============================] - 44s 68ms/step - loss: 6.6902e-04 - tb1_accuracy: 0.9996 - pneumonia_loss: 8.8984e-05 - pneumonia_accuracy: 1.0000 - tb1_loss: 5.8004e-04\n",
      "Epoch 27/30\n",
      "652/652 [==============================] - 44s 68ms/step - loss: 5.9247e-04 - tb1_accuracy: 0.9996 - pneumonia_loss: 4.2755e-05 - pneumonia_accuracy: 1.0000 - tb1_loss: 5.4972e-04\n",
      "Epoch 28/30\n",
      "652/652 [==============================] - 44s 68ms/step - loss: 5.5138e-04 - tb1_accuracy: 0.9996 - pneumonia_loss: 2.3780e-05 - pneumonia_accuracy: 1.0000 - tb1_loss: 5.2760e-04\n",
      "Epoch 29/30\n",
      "652/652 [==============================] - 44s 68ms/step - loss: 5.2404e-04 - tb1_accuracy: 0.9996 - pneumonia_loss: 1.5980e-05 - pneumonia_accuracy: 1.0000 - tb1_loss: 5.0806e-04\n",
      "Epoch 30/30\n",
      "652/652 [==============================] - 45s 69ms/step - loss: 4.9982e-04 - tb1_accuracy: 0.9996 - pneumonia_loss: 1.0541e-05 - pneumonia_accuracy: 1.0000 - tb1_loss: 4.8928e-04\n",
      "Evaluation: \n",
      "['loss', 'tb1_loss', 'pneumonia_loss', 'tb1_accuracy', 'pneumonia_accuracy']\n",
      "  1/163 [..............................] - ETA: 3s - loss: 1.1193e-04 - tb1_accuracy: 1.0000 - pneumonia_loss: 1.1193e-04 - pneumonia_accuracy: 1.0000 - tb1_loss: 0.0000e+00WARNING:tensorflow:Callbacks method `on_test_batch_end` is slow compared to the batch time (batch time: 0.0020s vs `on_test_batch_end` time: 0.0250s). Check your callbacks.\n",
      "163/163 [==============================] - 4s 27ms/step - loss: 0.3977 - tb1_accuracy: 0.9747 - pneumonia_loss: 0.1983 - pneumonia_accuracy: 0.9640 - tb1_loss: 0.1994\n"
     ]
    },
    {
     "data": {
      "text/plain": [
       "[0.39769837260246277,\n",
       " 0.19939914345741272,\n",
       " 0.19829915463924408,\n",
       " 0.974693238735199,\n",
       " 0.9639570713043213]"
      ]
     },
     "execution_count": 5,
     "metadata": {},
     "output_type": "execute_result"
    }
   ],
   "source": [
    "from tensorflow.keras.models import Model\n",
    "from tensorflow.keras.layers import Input\n",
    "\n",
    "\n",
    "tf.keras.backend.clear_session()\n",
    "\n",
    "model_input = Input(shape=(256, 256, 1))\n",
    "shared = Conv2D(32, 3, activation='relu')(model_input)\n",
    "shared = Flatten()(shared)\n",
    "y1 = Dense(32, activation='relu')(shared)\n",
    "y1 = Dense(2, name='tb1')(y1)\n",
    "\n",
    "y2 = Dense(32, activation='relu')(shared)\n",
    "y2 = Dense(2, name='pneumonia')(y2)\n",
    "\n",
    "model = Model(inputs=model_input, outputs=[y1, y2])\n",
    "\n",
    "loss_list =[tf.keras.losses.SparseCategoricalCrossentropy(from_logits=True), tf.keras.losses.SparseCategoricalCrossentropy(from_logits=True)]\n",
    "test_metrics = {'tb1': 'accuracy', 'pneumonia': 'accuracy' }\n",
    "model.compile(loss=loss_list,optimizer='adam',metrics=test_metrics)\n",
    "\n",
    "\n",
    "model.fit(x_train, [y_train_tb1, y_train_p], batch_size=8, epochs=30)\n",
    "\n",
    "print(\"Evaluation: \")\n",
    "print(model.metrics_names)\n",
    "model.evaluate(x_test, [y_test_tb1, y_test_p], batch_size=8)\n",
    "\n",
    "\n",
    "                                "
   ]
  },
  {
   "cell_type": "code",
   "execution_count": null,
   "metadata": {},
   "outputs": [],
   "source": []
  },
  {
   "cell_type": "code",
   "execution_count": null,
   "metadata": {},
   "outputs": [],
   "source": []
  }
 ],
 "metadata": {
  "accelerator": "GPU",
  "colab": {
   "collapsed_sections": [],
   "name": "advanced.ipynb",
   "toc_visible": true
  },
  "kernelspec": {
   "display_name": "Python 3",
   "language": "python",
   "name": "python3"
  },
  "language_info": {
   "codemirror_mode": {
    "name": "ipython",
    "version": 3
   },
   "file_extension": ".py",
   "mimetype": "text/x-python",
   "name": "python",
   "nbconvert_exporter": "python",
   "pygments_lexer": "ipython3",
   "version": "3.5.6"
  }
 },
 "nbformat": 4,
 "nbformat_minor": 1
}

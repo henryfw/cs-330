{
 "cells": [
  {
   "cell_type": "markdown",
   "metadata": {
    "id": "3wF5wszaj97Y"
   },
   "source": [
    "# Multiple Task Pneumonia & TB"
   ]
  },
  {
   "cell_type": "code",
   "execution_count": 1,
   "metadata": {
    "execution": {
     "iopub.execute_input": "2020-10-08T01:22:49.877792Z",
     "iopub.status.busy": "2020-10-08T01:22:49.877115Z",
     "iopub.status.idle": "2020-10-08T01:22:55.969522Z",
     "shell.execute_reply": "2020-10-08T01:22:55.968963Z"
    },
    "id": "0trJmd6DjqBZ"
   },
   "outputs": [],
   "source": [
    "import tensorflow as tf\n",
    "\n",
    "\n",
    "gpus = tf.config.experimental.list_physical_devices('GPU')\n",
    "tf.config.experimental.set_memory_growth(gpus[0], True)\n",
    "tf.config.experimental.set_virtual_device_configuration(gpus[0], [tf.config.experimental.VirtualDeviceConfiguration(memory_limit=3999)])\n",
    " \n",
    "\n",
    "from tensorflow.keras.layers import Dense, Flatten, Conv2D\n",
    "from tensorflow.keras import Model"
   ]
  },
  {
   "cell_type": "code",
   "execution_count": 2,
   "metadata": {},
   "outputs": [
    {
     "name": "stdout",
     "output_type": "stream",
     "text": [
      "WARNING:tensorflow:From <ipython-input-2-25452c320fbf>:2: is_gpu_available (from tensorflow.python.framework.test_util) is deprecated and will be removed in a future version.\n",
      "Instructions for updating:\n",
      "Use `tf.config.list_physical_devices('GPU')` instead.\n",
      "Is your GPU available for use?\n",
      "Yes, your GPU is available: True\n",
      "\n",
      "Your devices that are available:\n",
      "['/physical_device:CPU:0', '/physical_device:XLA_CPU:0', '/physical_device:GPU:0', '/physical_device:XLA_GPU:0']\n"
     ]
    }
   ],
   "source": [
    "print(('Is your GPU available for use?\\n{0}').format(\n",
    "    'Yes, your GPU is available: True' if tf.test.is_gpu_available() == True else 'No, your GPU is NOT available: False'\n",
    "))\n",
    "\n",
    "print(('\\nYour devices that are available:\\n{0}').format(\n",
    "    [device.name for device in tf.config.experimental.list_physical_devices()]\n",
    "))"
   ]
  },
  {
   "cell_type": "markdown",
   "metadata": {
    "id": "7NAbSZiaoJ4z"
   },
   "source": [
    "Load and prepare data"
   ]
  },
  {
   "cell_type": "code",
   "execution_count": 3,
   "metadata": {},
   "outputs": [],
   "source": [
    "import cv2 as cv\n",
    "import pickle\n",
    "import random\n",
    "import numpy as np\n",
    " "
   ]
  },
  {
   "cell_type": "code",
   "execution_count": 4,
   "metadata": {
    "execution": {
     "iopub.execute_input": "2020-10-08T01:22:55.975638Z",
     "iopub.status.busy": "2020-10-08T01:22:55.974545Z",
     "iopub.status.idle": "2020-10-08T01:22:56.930680Z",
     "shell.execute_reply": "2020-10-08T01:22:56.931142Z"
    },
    "id": "JqFRS6K07jJs"
   },
   "outputs": [
    {
     "name": "stdout",
     "output_type": "stream",
     "text": [
      "Train size: 8921, test size: 2231\n",
      "tb1_data size: 5296, p_data size: 5856\n"
     ]
    }
   ],
   "source": [
    "tb1_data = pickle.load( open( \"C:/Users/uprz2/Downloads/cs330/data/tb1-256-grayscale\", \"rb\" ) )\n",
    "\n",
    "p_data = pickle.load( open( \"C:/Users/uprz2/Downloads/cs330/data/pneumonia-256-grayscale\", \"rb\" ) )\n",
    " \n",
    "# duplicate to have equal amounts\n",
    "for i in range(3):\n",
    "    tb1_data = tb1_data + tb1_data\n",
    "\n",
    "x_data = []\n",
    "y_data_tb1 = []\n",
    "y_data_p = []\n",
    "\n",
    "for v in tb1_data:\n",
    "    x_data.append( v[0] )\n",
    "    y_data_tb1.append(v[1])\n",
    "    y_data_p.append(0)\n",
    "    \n",
    "\n",
    "for v in p_data:\n",
    "    x_data.append( v[0] )\n",
    "    y_data_tb1.append(0)\n",
    "    y_data_p.append(v[1])\n",
    "\n",
    "x_data = np.array(x_data)\n",
    "y_data_tb1 = np.array(y_data_tb1)\n",
    "y_data_p = np.array(y_data_p)\n",
    "\n",
    "s = np.arange(len(x_data))\n",
    "np.random.shuffle(s)\n",
    "\n",
    "x_data = x_data[s]\n",
    "y_data_tb1 = y_data_tb1[s]\n",
    "y_data_p = y_data_p[s]\n",
    "\n",
    "\n",
    "fraction_train = 0.8\n",
    "train_size = int(len(x_data) * fraction_train)\n",
    "\n",
    "x_train = x_data[0: train_size]/ 255.0\n",
    "y_train_tb1 = y_data_tb1[0: train_size]\n",
    "y_train_p = y_data_p[0: train_size]\n",
    "\n",
    "\n",
    "\n",
    "x_test = np.array(x_data[train_size:]) / 255.0\n",
    "y_test_tb1 = np.array(y_data_tb1[train_size:])\n",
    "y_test_p = np.array(y_data_p[train_size:])\n",
    "\n",
    "\n",
    "\n",
    "# Add a channels dimension\n",
    "x_train = x_train[..., tf.newaxis].astype(\"float32\")\n",
    "x_test = x_test[..., tf.newaxis].astype(\"float32\")\n",
    "\n",
    "\n",
    "print(\"Train size: {}, test size: {}\".format(len(x_train), len(x_test)))\n",
    "\n",
    "print(\"tb1_data size: {}, p_data size: {}\".format(len(tb1_data), len(p_data)))\n"
   ]
  },
  {
   "cell_type": "code",
   "execution_count": 5,
   "metadata": {
    "execution": {
     "iopub.execute_input": "2020-10-08T01:23:04.395483Z",
     "iopub.status.busy": "2020-10-08T01:23:04.394652Z",
     "iopub.status.idle": "2020-10-08T01:23:04.689865Z",
     "shell.execute_reply": "2020-10-08T01:23:04.690256Z"
    },
    "id": "h3IKyzTCDNGo",
    "scrolled": false
   },
   "outputs": [
    {
     "name": "stdout",
     "output_type": "stream",
     "text": [
      "Epoch 1/30\n",
      "   2/1116 [..............................] - ETA: 39s - pneumonia_accuracy: 0.5625 - pneumonia_loss: 12.2708 - tb1_accuracy: 0.5000 - tb1_loss: 8.2842 - loss: 20.5550WARNING:tensorflow:Callbacks method `on_train_batch_end` is slow compared to the batch time (batch time: 0.0270s vs `on_train_batch_end` time: 0.0430s). Check your callbacks.\n",
      "1116/1116 [==============================] - 76s 68ms/step - pneumonia_accuracy: 0.9398 - pneumonia_loss: 0.3809 - tb1_accuracy: 0.8705 - tb1_loss: 0.4383 - loss: 0.8192\n",
      "Epoch 2/30\n",
      "1116/1116 [==============================] - 76s 68ms/step - pneumonia_accuracy: 0.9771 - pneumonia_loss: 0.0672 - tb1_accuracy: 0.9056 - tb1_loss: 0.1622 - loss: 0.2294\n",
      "Epoch 3/30\n",
      "1116/1116 [==============================] - 76s 68ms/step - pneumonia_accuracy: 0.9867 - pneumonia_loss: 0.0387 - tb1_accuracy: 0.9685 - tb1_loss: 0.0851 - loss: 0.1238\n",
      "Epoch 4/30\n",
      "1116/1116 [==============================] - 77s 69ms/step - pneumonia_accuracy: 0.9962 - pneumonia_loss: 0.0122 - tb1_accuracy: 0.9990 - tb1_loss: 0.0068 - loss: 0.0190\n",
      "Epoch 5/30\n",
      "1116/1116 [==============================] - 75s 68ms/step - pneumonia_accuracy: 0.9895 - pneumonia_loss: 0.0369 - tb1_accuracy: 0.9909 - tb1_loss: 0.0336 - loss: 0.0706\n",
      "Epoch 6/30\n",
      "1116/1116 [==============================] - 76s 68ms/step - pneumonia_accuracy: 0.9966 - pneumonia_loss: 0.0101 - tb1_accuracy: 0.9989 - tb1_loss: 0.0044 - loss: 0.0145\n",
      "Epoch 7/30\n",
      "1116/1116 [==============================] - 75s 67ms/step - pneumonia_accuracy: 0.9993 - pneumonia_loss: 0.0026 - tb1_accuracy: 0.9999 - tb1_loss: 5.9650e-04 - loss: 0.0032\n",
      "Epoch 8/30\n",
      "1116/1116 [==============================] - 74s 67ms/step - pneumonia_accuracy: 1.0000 - pneumonia_loss: 1.5074e-04 - tb1_accuracy: 1.0000 - tb1_loss: 3.8013e-05 - loss: 1.8875e-04\n",
      "Epoch 9/30\n",
      "1116/1116 [==============================] - 74s 67ms/step - pneumonia_accuracy: 1.0000 - pneumonia_loss: 3.1278e-05 - tb1_accuracy: 1.0000 - tb1_loss: 1.5475e-05 - loss: 4.6753e-05\n",
      "Epoch 10/30\n",
      "1116/1116 [==============================] - 75s 67ms/step - pneumonia_accuracy: 1.0000 - pneumonia_loss: 1.2939e-05 - tb1_accuracy: 1.0000 - tb1_loss: 7.5894e-06 - loss: 2.0528e-05\n",
      "Epoch 11/30\n",
      "1116/1116 [==============================] - 75s 67ms/step - pneumonia_accuracy: 1.0000 - pneumonia_loss: 7.3743e-06 - tb1_accuracy: 1.0000 - tb1_loss: 4.4382e-06 - loss: 1.1813e-05\n",
      "Epoch 12/30\n",
      "1116/1116 [==============================] - 74s 67ms/step - pneumonia_accuracy: 1.0000 - pneumonia_loss: 3.8476e-06 - tb1_accuracy: 1.0000 - tb1_loss: 2.6649e-06 - loss: 6.5125e-06\n",
      "Epoch 13/30\n",
      "1116/1116 [==============================] - 75s 67ms/step - pneumonia_accuracy: 1.0000 - pneumonia_loss: 2.5178e-06 - tb1_accuracy: 1.0000 - tb1_loss: 1.6571e-06 - loss: 4.1749e-06\n",
      "Epoch 14/30\n",
      "1116/1116 [==============================] - 75s 67ms/step - pneumonia_accuracy: 1.0000 - pneumonia_loss: 1.4391e-06 - tb1_accuracy: 1.0000 - tb1_loss: 9.7651e-07 - loss: 2.4156e-06\n",
      "Epoch 15/30\n",
      "1116/1116 [==============================] - 75s 67ms/step - pneumonia_accuracy: 1.0000 - pneumonia_loss: 8.1208e-07 - tb1_accuracy: 1.0000 - tb1_loss: 6.0200e-07 - loss: 1.4141e-06\n",
      "Epoch 16/30\n",
      "1116/1116 [==============================] - 75s 67ms/step - pneumonia_accuracy: 1.0000 - pneumonia_loss: 5.0162e-07 - tb1_accuracy: 1.0000 - tb1_loss: 3.6802e-07 - loss: 8.6964e-07\n",
      "Epoch 17/30\n",
      "1116/1116 [==============================] - 75s 67ms/step - pneumonia_accuracy: 1.0000 - pneumonia_loss: 3.1436e-07 - tb1_accuracy: 1.0000 - tb1_loss: 2.3183e-07 - loss: 5.4619e-07\n",
      "Epoch 18/30\n",
      "1116/1116 [==============================] - 75s 67ms/step - pneumonia_accuracy: 1.0000 - pneumonia_loss: 2.0027e-07 - tb1_accuracy: 1.0000 - tb1_loss: 1.5286e-07 - loss: 3.5312e-07\n",
      "Epoch 19/30\n",
      "1116/1116 [==============================] - 75s 67ms/step - pneumonia_accuracy: 1.0000 - pneumonia_loss: 1.0659e-07 - tb1_accuracy: 1.0000 - tb1_loss: 9.4715e-08 - loss: 2.0131e-07\n",
      "Epoch 20/30\n",
      "1116/1116 [==============================] - 75s 67ms/step - pneumonia_accuracy: 1.0000 - pneumonia_loss: 7.5740e-08 - tb1_accuracy: 1.0000 - tb1_loss: 6.1749e-08 - loss: 1.3749e-07\n",
      "Epoch 21/30\n",
      "1116/1116 [==============================] - 75s 67ms/step - pneumonia_accuracy: 1.0000 - pneumonia_loss: 4.7946e-08 - tb1_accuracy: 1.0000 - tb1_loss: 3.9487e-08 - loss: 8.7433e-08\n",
      "Epoch 22/30\n",
      "1116/1116 [==============================] - 75s 67ms/step - pneumonia_accuracy: 1.0000 - pneumonia_loss: 3.0133e-08 - tb1_accuracy: 1.0000 - tb1_loss: 2.5082e-08 - loss: 5.5215e-08\n",
      "Epoch 23/30\n",
      "1116/1116 [==============================] - 75s 67ms/step - pneumonia_accuracy: 1.0000 - pneumonia_loss: 2.6351e-08 - tb1_accuracy: 1.0000 - tb1_loss: 1.9002e-08 - loss: 4.5353e-08\n",
      "Epoch 24/30\n",
      "1116/1116 [==============================] - 75s 67ms/step - pneumonia_accuracy: 0.9889 - pneumonia_loss: 0.0546 - tb1_accuracy: 0.9942 - tb1_loss: 0.0629 - loss: 0.1175\n",
      "Epoch 25/30\n",
      "1116/1116 [==============================] - 78s 70ms/step - pneumonia_accuracy: 0.9975 - pneumonia_loss: 0.0072 - tb1_accuracy: 1.0000 - tb1_loss: 6.6425e-04 - loss: 0.0079\n",
      "Epoch 26/30\n",
      "1116/1116 [==============================] - 76s 68ms/step - pneumonia_accuracy: 1.0000 - pneumonia_loss: 1.5220e-04 - tb1_accuracy: 1.0000 - tb1_loss: 1.7107e-05 - loss: 1.6930e-04\n",
      "Epoch 27/30\n",
      "1116/1116 [==============================] - 76s 69ms/step - pneumonia_accuracy: 1.0000 - pneumonia_loss: 3.7192e-05 - tb1_accuracy: 1.0000 - tb1_loss: 6.9630e-06 - loss: 4.4155e-05\n",
      "Epoch 28/30\n",
      "1116/1116 [==============================] - 76s 68ms/step - pneumonia_accuracy: 1.0000 - pneumonia_loss: 2.1022e-05 - tb1_accuracy: 1.0000 - tb1_loss: 3.9230e-06 - loss: 2.4945e-05\n",
      "Epoch 29/30\n",
      "1116/1116 [==============================] - 77s 69ms/step - pneumonia_accuracy: 1.0000 - pneumonia_loss: 8.6560e-06 - tb1_accuracy: 1.0000 - tb1_loss: 2.0496e-06 - loss: 1.0706e-05\n",
      "Epoch 30/30\n",
      "1116/1116 [==============================] - 77s 69ms/step - pneumonia_accuracy: 1.0000 - pneumonia_loss: 5.2639e-06 - tb1_accuracy: 1.0000 - tb1_loss: 1.1914e-06 - loss: 6.4553e-06\n",
      "Evaluation: \n",
      "['loss', 'tb1_loss', 'pneumonia_loss', 'tb1_accuracy', 'pneumonia_accuracy']\n",
      "279/279 [==============================] - 8s 28ms/step - pneumonia_accuracy: 0.9700 - pneumonia_loss: 0.2119 - tb1_accuracy: 0.9991 - tb1_loss: 0.0074 - loss: 0.2193\n"
     ]
    },
    {
     "data": {
      "text/plain": [
       "[0.2193319946527481,\n",
       " 0.0073870825581252575,\n",
       " 0.21194493770599365,\n",
       " 0.9991035461425781,\n",
       " 0.9699686169624329]"
      ]
     },
     "execution_count": 5,
     "metadata": {},
     "output_type": "execute_result"
    }
   ],
   "source": [
    "from tensorflow.keras.models import Model\n",
    "from tensorflow.keras.layers import Input\n",
    "\n",
    "\n",
    "tf.keras.backend.clear_session()\n",
    "\n",
    "model_input = Input(shape=(256, 256, 1))\n",
    "shared = Conv2D(32, 3, activation='relu')(model_input)\n",
    "shared = Flatten()(shared)\n",
    "y1 = Dense(32, activation='relu')(shared)\n",
    "y1 = Dense(2, name='tb1')(y1)\n",
    "\n",
    "y2 = Dense(32, activation='relu')(shared)\n",
    "y2 = Dense(2, name='pneumonia')(y2)\n",
    "\n",
    "model = Model(inputs=model_input, outputs=[y1, y2])\n",
    "\n",
    "loss_list =[tf.keras.losses.SparseCategoricalCrossentropy(from_logits=True), tf.keras.losses.SparseCategoricalCrossentropy(from_logits=True)]\n",
    "test_metrics = {'tb1': 'accuracy', 'pneumonia': 'accuracy' }\n",
    "model.compile(loss=loss_list,optimizer='adam',metrics=test_metrics)\n",
    "\n",
    "\n",
    "model.fit(x_train, [y_train_tb1, y_train_p], batch_size=8, epochs=30)\n",
    "\n",
    "\n",
    "\n",
    "print(\"Evaluation: \")\n",
    "print(model.metrics_names)\n",
    "\n",
    "model.evaluate(x_test, [y_test_tb1, y_test_p], batch_size=8)\n",
    "\n",
    "\n",
    "                                "
   ]
  },
  {
   "cell_type": "code",
   "execution_count": null,
   "metadata": {},
   "outputs": [],
   "source": []
  },
  {
   "cell_type": "code",
   "execution_count": null,
   "metadata": {},
   "outputs": [],
   "source": []
  }
 ],
 "metadata": {
  "accelerator": "GPU",
  "colab": {
   "collapsed_sections": [],
   "name": "advanced.ipynb",
   "toc_visible": true
  },
  "kernelspec": {
   "display_name": "Python 3",
   "language": "python",
   "name": "python3"
  },
  "language_info": {
   "codemirror_mode": {
    "name": "ipython",
    "version": 3
   },
   "file_extension": ".py",
   "mimetype": "text/x-python",
   "name": "python",
   "nbconvert_exporter": "python",
   "pygments_lexer": "ipython3",
   "version": "3.5.6"
  }
 },
 "nbformat": 4,
 "nbformat_minor": 1
}

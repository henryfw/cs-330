{
 "cells": [
  {
   "cell_type": "markdown",
   "metadata": {
    "id": "3wF5wszaj97Y"
   },
   "source": [
    "# Multiple Task Pneumonia & TB"
   ]
  },
  {
   "cell_type": "code",
   "execution_count": 1,
   "metadata": {
    "execution": {
     "iopub.execute_input": "2020-10-08T01:22:49.877792Z",
     "iopub.status.busy": "2020-10-08T01:22:49.877115Z",
     "iopub.status.idle": "2020-10-08T01:22:55.969522Z",
     "shell.execute_reply": "2020-10-08T01:22:55.968963Z"
    },
    "id": "0trJmd6DjqBZ"
   },
   "outputs": [],
   "source": [
    "import tensorflow as tf\n",
    "\n",
    "\n",
    "gpus = tf.config.experimental.list_physical_devices('GPU')\n",
    "tf.config.experimental.set_memory_growth(gpus[0], True)\n",
    "tf.config.experimental.set_virtual_device_configuration(gpus[0], [tf.config.experimental.VirtualDeviceConfiguration(memory_limit=3999)])\n",
    " \n",
    "\n",
    "from tensorflow.keras.layers import Dense, Flatten, Conv2D\n",
    "from tensorflow.keras import Model"
   ]
  },
  {
   "cell_type": "code",
   "execution_count": 2,
   "metadata": {},
   "outputs": [
    {
     "name": "stdout",
     "output_type": "stream",
     "text": [
      "WARNING:tensorflow:From <ipython-input-2-25452c320fbf>:2: is_gpu_available (from tensorflow.python.framework.test_util) is deprecated and will be removed in a future version.\n",
      "Instructions for updating:\n",
      "Use `tf.config.list_physical_devices('GPU')` instead.\n",
      "Is your GPU available for use?\n",
      "Yes, your GPU is available: True\n",
      "\n",
      "Your devices that are available:\n",
      "['/physical_device:CPU:0', '/physical_device:XLA_CPU:0', '/physical_device:GPU:0', '/physical_device:XLA_GPU:0']\n"
     ]
    }
   ],
   "source": [
    "print(('Is your GPU available for use?\\n{0}').format(\n",
    "    'Yes, your GPU is available: True' if tf.test.is_gpu_available() == True else 'No, your GPU is NOT available: False'\n",
    "))\n",
    "\n",
    "print(('\\nYour devices that are available:\\n{0}').format(\n",
    "    [device.name for device in tf.config.experimental.list_physical_devices()]\n",
    "))"
   ]
  },
  {
   "cell_type": "markdown",
   "metadata": {
    "id": "7NAbSZiaoJ4z"
   },
   "source": [
    "Load and prepare data"
   ]
  },
  {
   "cell_type": "code",
   "execution_count": 3,
   "metadata": {},
   "outputs": [],
   "source": [
    "import cv2 as cv\n",
    "import pickle\n",
    "import random\n",
    "import numpy as np\n",
    " "
   ]
  },
  {
   "cell_type": "code",
   "execution_count": 4,
   "metadata": {
    "execution": {
     "iopub.execute_input": "2020-10-08T01:22:55.975638Z",
     "iopub.status.busy": "2020-10-08T01:22:55.974545Z",
     "iopub.status.idle": "2020-10-08T01:22:56.930680Z",
     "shell.execute_reply": "2020-10-08T01:22:56.931142Z"
    },
    "id": "JqFRS6K07jJs"
   },
   "outputs": [
    {
     "name": "stdout",
     "output_type": "stream",
     "text": [
      "Train size: 5214, test size: 1304\n",
      "tb1_data size: 662, p_data size: 5856\n"
     ]
    }
   ],
   "source": [
    "tb1_data = pickle.load( open( \"C:/Users/uprz2/Downloads/cs330/data/tb1-256-grayscale\", \"rb\" ) )\n",
    "\n",
    "p_data = pickle.load( open( \"C:/Users/uprz2/Downloads/cs330/data/pneumonia-256-grayscale\", \"rb\" ) )\n",
    " \n",
    "# duplicate to have equal amounts\n",
    "# for i in range(3):\n",
    "#     tb1_data = tb1_data + tb1_data\n",
    "\n",
    "x_data = []\n",
    "y_data_tb1 = []\n",
    "y_data_p = []\n",
    "\n",
    "for v in tb1_data:\n",
    "    x_data.append( v[0] )\n",
    "    y_data_tb1.append(v[1])\n",
    "    y_data_p.append(0)\n",
    "    \n",
    "\n",
    "for v in p_data:\n",
    "    x_data.append( v[0] )\n",
    "    y_data_tb1.append(0)\n",
    "    y_data_p.append(v[1])\n",
    "\n",
    "x_data = np.array(x_data)\n",
    "y_data_tb1 = np.array(y_data_tb1)\n",
    "y_data_p = np.array(y_data_p)\n",
    "\n",
    "s = np.arange(len(x_data))\n",
    "np.random.shuffle(s)\n",
    "\n",
    "x_data = x_data[s]\n",
    "y_data_tb1 = y_data_tb1[s]\n",
    "y_data_p = y_data_p[s]\n",
    "\n",
    "\n",
    "fraction_train = 0.8\n",
    "train_size = int(len(x_data) * fraction_train)\n",
    "\n",
    "x_train = x_data[0: train_size]/ 255.0\n",
    "y_train_tb1 = y_data_tb1[0: train_size]\n",
    "y_train_p = y_data_p[0: train_size]\n",
    "\n",
    "\n",
    "\n",
    "x_test = np.array(x_data[train_size:]) / 255.0\n",
    "y_test_tb1 = np.array(y_data_tb1[train_size:])\n",
    "y_test_p = np.array(y_data_p[train_size:])\n",
    "\n",
    "\n",
    "\n",
    "# Add a channels dimension\n",
    "x_train = x_train[..., tf.newaxis].astype(\"float32\")\n",
    "x_test = x_test[..., tf.newaxis].astype(\"float32\")\n",
    "\n",
    "\n",
    "print(\"Train size: {}, test size: {}\".format(len(x_train), len(x_test)))\n",
    "\n",
    "print(\"tb1_data size: {}, p_data size: {}\".format(len(tb1_data), len(p_data)))\n"
   ]
  },
  {
   "cell_type": "code",
   "execution_count": 5,
   "metadata": {
    "execution": {
     "iopub.execute_input": "2020-10-08T01:23:04.395483Z",
     "iopub.status.busy": "2020-10-08T01:23:04.394652Z",
     "iopub.status.idle": "2020-10-08T01:23:04.689865Z",
     "shell.execute_reply": "2020-10-08T01:23:04.690256Z"
    },
    "id": "h3IKyzTCDNGo",
    "scrolled": false
   },
   "outputs": [
    {
     "name": "stdout",
     "output_type": "stream",
     "text": [
      "Epoch 1/30\n",
      "  2/652 [..............................] - ETA: 31s - pneumonia_loss: 13.0794 - tb1_loss: 0.3799 - loss: 13.4593 - tb1_accuracy: 0.5625 - pneumonia_accuracy: 0.6250WARNING:tensorflow:Callbacks method `on_train_batch_end` is slow compared to the batch time (batch time: 0.0270s vs `on_train_batch_end` time: 0.0720s). Check your callbacks.\n",
      "652/652 [==============================] - 64s 98ms/step - pneumonia_loss: 1.8448 - tb1_loss: 2.5371 - loss: 4.3819 - tb1_accuracy: 0.9574 - pneumonia_accuracy: 0.8941\n",
      "Epoch 2/30\n",
      "652/652 [==============================] - 64s 98ms/step - pneumonia_loss: 0.1036 - tb1_loss: 0.0681 - loss: 0.1717 - tb1_accuracy: 0.9749 - pneumonia_accuracy: 0.9647\n",
      "Epoch 3/30\n",
      "652/652 [==============================] - 64s 98ms/step - pneumonia_loss: 0.0844 - tb1_loss: 0.0581 - loss: 0.1425 - tb1_accuracy: 0.9781 - pneumonia_accuracy: 0.9779\n",
      "Epoch 4/30\n",
      "652/652 [==============================] - 64s 98ms/step - pneumonia_loss: 0.0478 - tb1_loss: 0.0394 - loss: 0.0872 - tb1_accuracy: 0.9847 - pneumonia_accuracy: 0.9841\n",
      "Epoch 5/30\n",
      "652/652 [==============================] - 64s 98ms/step - pneumonia_loss: 0.0447 - tb1_loss: 0.0333 - loss: 0.0779 - tb1_accuracy: 0.9885 - pneumonia_accuracy: 0.9868\n",
      "Epoch 6/30\n",
      "652/652 [==============================] - 64s 98ms/step - pneumonia_loss: 0.0238 - tb1_loss: 0.0224 - loss: 0.0462 - tb1_accuracy: 0.9925 - pneumonia_accuracy: 0.9919\n",
      "Epoch 7/30\n",
      "652/652 [==============================] - 64s 98ms/step - pneumonia_loss: 0.0743 - tb1_loss: 0.0613 - loss: 0.1356 - tb1_accuracy: 0.9896 - pneumonia_accuracy: 0.9868\n",
      "Epoch 8/30\n",
      "652/652 [==============================] - 64s 98ms/step - pneumonia_loss: 0.0809 - tb1_loss: 0.0474 - loss: 0.1282 - tb1_accuracy: 0.9847 - pneumonia_accuracy: 0.9726\n",
      "Epoch 9/30\n",
      "652/652 [==============================] - 64s 98ms/step - pneumonia_loss: 0.0390 - tb1_loss: 0.0132 - loss: 0.0521 - tb1_accuracy: 0.9960 - pneumonia_accuracy: 0.9929\n",
      "Epoch 10/30\n",
      "652/652 [==============================] - 64s 98ms/step - pneumonia_loss: 0.0036 - tb1_loss: 0.0036 - loss: 0.0071 - tb1_accuracy: 0.9992 - pneumonia_accuracy: 0.9992\n",
      "Epoch 11/30\n",
      "652/652 [==============================] - 64s 98ms/step - pneumonia_loss: 6.9267e-04 - tb1_loss: 9.6823e-04 - loss: 0.0017 - tb1_accuracy: 1.0000 - pneumonia_accuracy: 1.0000\n",
      "Epoch 12/30\n",
      "652/652 [==============================] - 64s 98ms/step - pneumonia_loss: 4.4545e-04 - tb1_loss: 5.9138e-04 - loss: 0.0010 - tb1_accuracy: 1.0000 - pneumonia_accuracy: 1.0000\n",
      "Epoch 13/30\n",
      "652/652 [==============================] - 64s 98ms/step - pneumonia_loss: 6.3457e-05 - tb1_loss: 1.1288e-04 - loss: 1.7634e-04 - tb1_accuracy: 1.0000 - pneumonia_accuracy: 1.0000\n",
      "Epoch 14/30\n",
      "652/652 [==============================] - 64s 98ms/step - pneumonia_loss: 3.6939e-05 - tb1_loss: 4.8590e-05 - loss: 8.5528e-05 - tb1_accuracy: 1.0000 - pneumonia_accuracy: 1.0000\n",
      "Epoch 15/30\n",
      "652/652 [==============================] - 64s 98ms/step - pneumonia_loss: 2.3266e-05 - tb1_loss: 2.9240e-05 - loss: 5.2506e-05 - tb1_accuracy: 1.0000 - pneumonia_accuracy: 1.0000\n",
      "Epoch 16/30\n",
      "652/652 [==============================] - 64s 98ms/step - pneumonia_loss: 1.4727e-05 - tb1_loss: 1.7153e-05 - loss: 3.1879e-05 - tb1_accuracy: 1.0000 - pneumonia_accuracy: 1.0000\n",
      "Epoch 17/30\n",
      "652/652 [==============================] - 64s 98ms/step - pneumonia_loss: 1.0082e-05 - tb1_loss: 1.0700e-05 - loss: 2.0782e-05 - tb1_accuracy: 1.0000 - pneumonia_accuracy: 1.0000\n",
      "Epoch 18/30\n",
      "652/652 [==============================] - 64s 98ms/step - pneumonia_loss: 7.5698e-06 - tb1_loss: 7.2276e-06 - loss: 1.4797e-05 - tb1_accuracy: 1.0000 - pneumonia_accuracy: 1.0000\n",
      "Epoch 19/30\n",
      "652/652 [==============================] - 64s 98ms/step - pneumonia_loss: 5.5779e-06 - tb1_loss: 4.9168e-06 - loss: 1.0495e-05 - tb1_accuracy: 1.0000 - pneumonia_accuracy: 1.0000\n",
      "Epoch 20/30\n",
      "652/652 [==============================] - 64s 98ms/step - pneumonia_loss: 3.9282e-06 - tb1_loss: 3.4445e-06 - loss: 7.3727e-06 - tb1_accuracy: 1.0000 - pneumonia_accuracy: 1.0000\n",
      "Epoch 21/30\n",
      "652/652 [==============================] - 64s 98ms/step - pneumonia_loss: 2.9281e-06 - tb1_loss: 2.5105e-06 - loss: 5.4387e-06 - tb1_accuracy: 1.0000 - pneumonia_accuracy: 1.0000\n",
      "Epoch 22/30\n",
      "652/652 [==============================] - 64s 98ms/step - pneumonia_loss: 2.2301e-06 - tb1_loss: 1.7696e-06 - loss: 3.9997e-06 - tb1_accuracy: 1.0000 - pneumonia_accuracy: 1.0000\n",
      "Epoch 23/30\n",
      "652/652 [==============================] - 64s 98ms/step - pneumonia_loss: 1.7067e-06 - tb1_loss: 1.2755e-06 - loss: 2.9822e-06 - tb1_accuracy: 1.0000 - pneumonia_accuracy: 1.0000\n",
      "Epoch 24/30\n",
      "652/652 [==============================] - 64s 98ms/step - pneumonia_loss: 1.2504e-06 - tb1_loss: 9.7043e-07 - loss: 2.2208e-06 - tb1_accuracy: 1.0000 - pneumonia_accuracy: 1.0000\n",
      "Epoch 25/30\n",
      "652/652 [==============================] - 64s 98ms/step - pneumonia_loss: 9.2556e-07 - tb1_loss: 7.0555e-07 - loss: 1.6311e-06 - tb1_accuracy: 1.0000 - pneumonia_accuracy: 1.0000\n",
      "Epoch 26/30\n",
      "652/652 [==============================] - 64s 98ms/step - pneumonia_loss: 6.8493e-07 - tb1_loss: 5.1643e-07 - loss: 1.2014e-06 - tb1_accuracy: 1.0000 - pneumonia_accuracy: 1.0000\n",
      "Epoch 27/30\n",
      "652/652 [==============================] - 64s 98ms/step - pneumonia_loss: 5.5695e-07 - tb1_loss: 3.8696e-07 - loss: 9.4390e-07 - tb1_accuracy: 1.0000 - pneumonia_accuracy: 1.0000\n",
      "Epoch 28/30\n",
      "652/652 [==============================] - 64s 98ms/step - pneumonia_loss: 5.0683e-07 - tb1_loss: 3.2770e-07 - loss: 8.3452e-07 - tb1_accuracy: 1.0000 - pneumonia_accuracy: 1.0000\n",
      "Epoch 29/30\n",
      "652/652 [==============================] - 64s 98ms/step - pneumonia_loss: 3.0573e-07 - tb1_loss: 2.2033e-07 - loss: 5.2606e-07 - tb1_accuracy: 1.0000 - pneumonia_accuracy: 1.0000\n",
      "Epoch 30/30\n",
      "652/652 [==============================] - 64s 98ms/step - pneumonia_loss: 2.2852e-07 - tb1_loss: 1.8848e-07 - loss: 4.1700e-07 - tb1_accuracy: 1.0000 - pneumonia_accuracy: 1.0000\n",
      "Evaluation: \n",
      "['loss', 'tb1_loss', 'pneumonia_loss', 'tb1_accuracy', 'pneumonia_accuracy']\n",
      "  1/163 [..............................] - ETA: 3s - pneumonia_loss: 0.4246 - tb1_loss: 2.0668 - loss: 2.4913 - tb1_accuracy: 0.8750 - pneumonia_accuracy: 0.8750WARNING:tensorflow:Callbacks method `on_test_batch_end` is slow compared to the batch time (batch time: 0.0020s vs `on_test_batch_end` time: 0.0260s). Check your callbacks.\n",
      "163/163 [==============================] - 5s 28ms/step - pneumonia_loss: 0.4620 - tb1_loss: 0.1811 - loss: 0.6431 - tb1_accuracy: 0.9801 - pneumonia_accuracy: 0.9394\n"
     ]
    },
    {
     "data": {
      "text/plain": [
       "[0.6430911421775818,\n",
       " 0.18113435804843903,\n",
       " 0.46195679903030396,\n",
       " 0.9800613522529602,\n",
       " 0.9394171833992004]"
      ]
     },
     "execution_count": 5,
     "metadata": {},
     "output_type": "execute_result"
    }
   ],
   "source": [
    "from tensorflow.keras.models import Model\n",
    "from tensorflow.keras.layers import Input\n",
    "\n",
    "\n",
    "tf.keras.backend.clear_session()\n",
    "\n",
    "model_input = Input(shape=(256, 256, 1))\n",
    "shared = Conv2D(32, 3, activation='relu')(model_input)\n",
    "shared = Flatten()(shared)\n",
    "y1 = Dense(64, activation='relu')(shared)\n",
    "y1 = Dense(2, name='tb1')(y1)\n",
    "\n",
    "y2 = Dense(64, activation='relu')(shared)\n",
    "y2 = Dense(2, name='pneumonia')(y2)\n",
    "\n",
    "model = Model(inputs=model_input, outputs=[y1, y2])\n",
    "\n",
    "loss_list =[tf.keras.losses.SparseCategoricalCrossentropy(from_logits=True), tf.keras.losses.SparseCategoricalCrossentropy(from_logits=True)]\n",
    "test_metrics = {'tb1': 'accuracy', 'pneumonia': 'accuracy' }\n",
    "model.compile(loss=loss_list,optimizer='adam',metrics=test_metrics)\n",
    "\n",
    "\n",
    "model.fit(x_train, [y_train_tb1, y_train_p], batch_size=8, epochs=30)\n",
    "\n",
    "\n",
    "\n",
    "print(\"Evaluation: \")\n",
    "print(model.metrics_names)\n",
    "\n",
    "model.evaluate(x_test, [y_test_tb1, y_test_p], batch_size=8)\n",
    "\n",
    "\n",
    "                                "
   ]
  },
  {
   "cell_type": "code",
   "execution_count": null,
   "metadata": {},
   "outputs": [],
   "source": []
  },
  {
   "cell_type": "code",
   "execution_count": null,
   "metadata": {},
   "outputs": [],
   "source": []
  }
 ],
 "metadata": {
  "accelerator": "GPU",
  "colab": {
   "collapsed_sections": [],
   "name": "advanced.ipynb",
   "toc_visible": true
  },
  "kernelspec": {
   "display_name": "Python 3",
   "language": "python",
   "name": "python3"
  },
  "language_info": {
   "codemirror_mode": {
    "name": "ipython",
    "version": 3
   },
   "file_extension": ".py",
   "mimetype": "text/x-python",
   "name": "python",
   "nbconvert_exporter": "python",
   "pygments_lexer": "ipython3",
   "version": "3.5.6"
  }
 },
 "nbformat": 4,
 "nbformat_minor": 1
}

{
 "cells": [
  {
   "cell_type": "markdown",
   "metadata": {
    "id": "3wF5wszaj97Y"
   },
   "source": [
    "# Multiple Class Pneumonia & TB"
   ]
  },
  {
   "cell_type": "code",
   "execution_count": 1,
   "metadata": {
    "execution": {
     "iopub.execute_input": "2020-10-08T01:22:49.877792Z",
     "iopub.status.busy": "2020-10-08T01:22:49.877115Z",
     "iopub.status.idle": "2020-10-08T01:22:55.969522Z",
     "shell.execute_reply": "2020-10-08T01:22:55.968963Z"
    },
    "id": "0trJmd6DjqBZ"
   },
   "outputs": [],
   "source": [
    "import tensorflow as tf\n",
    "\n",
    "\n",
    "gpus = tf.config.experimental.list_physical_devices('GPU')\n",
    "tf.config.experimental.set_memory_growth(gpus[0], True)\n",
    "tf.config.experimental.set_virtual_device_configuration(gpus[0], [tf.config.experimental.VirtualDeviceConfiguration(memory_limit=3999)])\n",
    " \n",
    "\n",
    "from tensorflow.keras.layers import Dense, Flatten, Conv2D\n",
    "from tensorflow.keras import Model"
   ]
  },
  {
   "cell_type": "code",
   "execution_count": 2,
   "metadata": {},
   "outputs": [
    {
     "name": "stdout",
     "output_type": "stream",
     "text": [
      "WARNING:tensorflow:From <ipython-input-2-25452c320fbf>:2: is_gpu_available (from tensorflow.python.framework.test_util) is deprecated and will be removed in a future version.\n",
      "Instructions for updating:\n",
      "Use `tf.config.list_physical_devices('GPU')` instead.\n",
      "Is your GPU available for use?\n",
      "Yes, your GPU is available: True\n",
      "\n",
      "Your devices that are available:\n",
      "['/physical_device:CPU:0', '/physical_device:XLA_CPU:0', '/physical_device:GPU:0', '/physical_device:XLA_GPU:0']\n"
     ]
    }
   ],
   "source": [
    "print(('Is your GPU available for use?\\n{0}').format(\n",
    "    'Yes, your GPU is available: True' if tf.test.is_gpu_available() == True else 'No, your GPU is NOT available: False'\n",
    "))\n",
    "\n",
    "print(('\\nYour devices that are available:\\n{0}').format(\n",
    "    [device.name for device in tf.config.experimental.list_physical_devices()]\n",
    "))"
   ]
  },
  {
   "cell_type": "code",
   "execution_count": 3,
   "metadata": {},
   "outputs": [],
   "source": [
    "import cv2 as cv\n",
    "import pickle\n",
    "import random\n",
    "import numpy as np\n",
    " "
   ]
  },
  {
   "cell_type": "code",
   "execution_count": 4,
   "metadata": {
    "execution": {
     "iopub.execute_input": "2020-10-08T01:22:55.975638Z",
     "iopub.status.busy": "2020-10-08T01:22:55.974545Z",
     "iopub.status.idle": "2020-10-08T01:22:56.930680Z",
     "shell.execute_reply": "2020-10-08T01:22:56.931142Z"
    },
    "id": "JqFRS6K07jJs"
   },
   "outputs": [
    {
     "name": "stdout",
     "output_type": "stream",
     "text": [
      "Train size: 5214, test size: 1304\n"
     ]
    }
   ],
   "source": [
    "tb1_data = pickle.load( open( \"C:/Users/uprz2/Downloads/cs330/data/tb1-256\", \"rb\" ) )\n",
    "p_data = pickle.load( open( \"C:/Users/uprz2/Downloads/cs330/data/pneumonia-256\", \"rb\" ) )\n",
    "p_data = [(pair[0], 2 if pair[1] == 1 else 0) for pair in p_data] # change pneumonia true class to value 2\n",
    "\n",
    "raw_data = tb1_data + p_data  # array of tuples( [x,y], 0|1|2 )\n",
    "\n",
    "random.shuffle(raw_data)\n",
    "\n",
    "fraction_train = 0.8\n",
    "train_size = int(len(raw_data) * fraction_train)\n",
    "\n",
    "x_train = []\n",
    "y_train = []\n",
    "\n",
    "for v in raw_data[0: train_size] :\n",
    "    x_train.append(v[0])\n",
    "    y_train.append(v[1])\n",
    "\n",
    "x_train = np.array(x_train) \n",
    "y_train = np.array(y_train)    \n",
    "\n",
    "x_test = []\n",
    "y_test = []\n",
    "\n",
    "\n",
    "for v in raw_data[train_size:]:\n",
    "    x_test.append(v[0])\n",
    "    y_test.append(v[1])\n",
    "    \n",
    "\n",
    "x_test = np.array(x_test) \n",
    "y_test = np.array(y_test)  \n",
    "\n",
    "\n",
    "x_train, x_test = x_train / 255.0, x_test / 255.0\n",
    "\n",
    "\n",
    "\n",
    "# Add a channels dimension\n",
    "x_train = x_train[..., tf.newaxis].astype(\"float32\")\n",
    "x_test = x_test[..., tf.newaxis].astype(\"float32\")\n",
    "\n",
    "print(\"Train size: {}, test size: {}\".format(len(x_train), len(x_test)))"
   ]
  },
  {
   "cell_type": "code",
   "execution_count": 5,
   "metadata": {
    "execution": {
     "iopub.execute_input": "2020-10-08T01:23:04.395483Z",
     "iopub.status.busy": "2020-10-08T01:23:04.394652Z",
     "iopub.status.idle": "2020-10-08T01:23:04.689865Z",
     "shell.execute_reply": "2020-10-08T01:23:04.690256Z"
    },
    "id": "h3IKyzTCDNGo"
   },
   "outputs": [
    {
     "name": "stdout",
     "output_type": "stream",
     "text": [
      "Epoch 1/30\n",
      "  2/326 [..............................] - ETA: 9s - accuracy: 0.4062 - loss: 21.4226WARNING:tensorflow:Callbacks method `on_train_batch_end` is slow compared to the batch time (batch time: 0.0160s vs `on_train_batch_end` time: 0.0440s). Check your callbacks.\n",
      "326/326 [==============================] - 19s 58ms/step - accuracy: 0.8044 - loss: 4.4291\n",
      "Epoch 2/30\n",
      "326/326 [==============================] - 19s 57ms/step - accuracy: 0.8586 - loss: 0.4522\n",
      "Epoch 3/30\n",
      "326/326 [==============================] - 19s 57ms/step - accuracy: 0.9041 - loss: 0.3949\n",
      "Epoch 4/30\n",
      "326/326 [==============================] - 19s 57ms/step - accuracy: 0.9120 - loss: 0.3239\n",
      "Epoch 5/30\n",
      "326/326 [==============================] - 19s 57ms/step - accuracy: 0.9194 - loss: 0.2492\n",
      "Epoch 6/30\n",
      "326/326 [==============================] - 19s 57ms/step - accuracy: 0.9306 - loss: 0.1623\n",
      "Epoch 7/30\n",
      "326/326 [==============================] - 19s 57ms/step - accuracy: 0.9407 - loss: 0.1305\n",
      "Epoch 8/30\n",
      "326/326 [==============================] - 19s 57ms/step - accuracy: 0.9453 - loss: 0.1106\n",
      "Epoch 9/30\n",
      "326/326 [==============================] - 19s 57ms/step - accuracy: 0.9469 - loss: 0.1016\n",
      "Epoch 10/30\n",
      "326/326 [==============================] - 19s 57ms/step - accuracy: 0.9474 - loss: 0.0928\n",
      "Epoch 11/30\n",
      "326/326 [==============================] - 19s 57ms/step - accuracy: 0.9467 - loss: 0.0911\n",
      "Epoch 12/30\n",
      "326/326 [==============================] - 19s 57ms/step - accuracy: 0.9467 - loss: 0.0885\n",
      "Epoch 13/30\n",
      "326/326 [==============================] - 19s 57ms/step - accuracy: 0.9618 - loss: 0.0738\n",
      "Epoch 14/30\n",
      "326/326 [==============================] - 19s 57ms/step - accuracy: 0.9745 - loss: 0.0707\n",
      "Epoch 15/30\n",
      "326/326 [==============================] - 19s 57ms/step - accuracy: 0.9854 - loss: 0.0560\n",
      "Epoch 16/30\n",
      "326/326 [==============================] - 19s 57ms/step - accuracy: 0.9812 - loss: 0.0569\n",
      "Epoch 17/30\n",
      "326/326 [==============================] - 19s 57ms/step - accuracy: 0.9728 - loss: 0.0845\n",
      "Epoch 18/30\n",
      "326/326 [==============================] - 19s 57ms/step - accuracy: 0.9921 - loss: 0.0384\n",
      "Epoch 19/30\n",
      "326/326 [==============================] - 19s 57ms/step - accuracy: 0.9896 - loss: 0.0419\n",
      "Epoch 20/30\n",
      "326/326 [==============================] - 19s 57ms/step - accuracy: 0.9933 - loss: 0.0278\n",
      "Epoch 21/30\n",
      "326/326 [==============================] - 19s 57ms/step - accuracy: 0.9973 - loss: 0.01140s - accuracy: 0.9973 - loss: 0.\n",
      "Epoch 22/30\n",
      "326/326 [==============================] - 19s 57ms/step - accuracy: 0.9979 - loss: 0.0079\n",
      "Epoch 23/30\n",
      "326/326 [==============================] - 19s 57ms/step - accuracy: 0.9981 - loss: 0.0060\n",
      "Epoch 24/30\n",
      "326/326 [==============================] - 19s 57ms/step - accuracy: 0.9987 - loss: 0.0027\n",
      "Epoch 25/30\n",
      "326/326 [==============================] - 19s 57ms/step - accuracy: 0.9987 - loss: 0.0024\n",
      "Epoch 26/30\n",
      "326/326 [==============================] - 19s 57ms/step - accuracy: 0.9987 - loss: 0.0022\n",
      "Epoch 27/30\n",
      "326/326 [==============================] - 19s 57ms/step - accuracy: 0.9987 - loss: 0.0020\n",
      "Epoch 28/30\n",
      "326/326 [==============================] - 19s 57ms/step - accuracy: 0.9987 - loss: 0.0027\n",
      "Epoch 29/30\n",
      "326/326 [==============================] - 19s 57ms/step - accuracy: 0.9987 - loss: 0.0024\n",
      "Epoch 30/30\n",
      "326/326 [==============================] - 19s 57ms/step - accuracy: 0.9987 - loss: 0.0021\n",
      "Evaluation: \n",
      "41/41 [==============================] - 1s 28ms/step - accuracy: 0.9179 - loss: 0.3994 0s - accurac\n"
     ]
    },
    {
     "data": {
      "text/plain": [
       "[0.39939889311790466, 0.9179447889328003]"
      ]
     },
     "execution_count": 5,
     "metadata": {},
     "output_type": "execute_result"
    }
   ],
   "source": [
    "tf.keras.backend.clear_session()\n",
    "\n",
    "model = tf.keras.models.Sequential([Conv2D(32, 3, activation='relu'), \n",
    "                                    Flatten(), \n",
    "                                    Dense(64, activation='relu'), \n",
    "                                    Dense(3)])\n",
    "\n",
    "model.compile(loss=[tf.keras.losses.SparseCategoricalCrossentropy(from_logits=True)],optimizer='adam',metrics=['accuracy'])\n",
    "\n",
    "model.fit(x_train, y_train, batch_size=16, epochs=30)\n",
    "# The validation data is selected from the last samples in the x and y data provided\n",
    "\n",
    "print(\"Evaluation: \")\n",
    "model.evaluate(x_test, y_test)\n",
    "\n",
    "\n",
    "                                "
   ]
  },
  {
   "cell_type": "code",
   "execution_count": 6,
   "metadata": {
    "execution": {
     "iopub.execute_input": "2020-10-08T01:23:04.751851Z",
     "iopub.status.busy": "2020-10-08T01:23:04.751182Z",
     "iopub.status.idle": "2020-10-08T01:23:20.841977Z",
     "shell.execute_reply": "2020-10-08T01:23:20.841365Z"
    },
    "id": "i-2pkctU_Ci7"
   },
   "outputs": [
    {
     "name": "stdout",
     "output_type": "stream",
     "text": [
      "tf.Tensor(\n",
      "[[306   9  44]\n",
      " [ 13  49   6]\n",
      " [ 35   0 842]], shape=(3, 3), dtype=int32)\n"
     ]
    }
   ],
   "source": [
    "# get stats on the validation set\n",
    "\n",
    " \n",
    "predictions = model.predict(x_test)\n",
    "predictions = tf.argmax(predictions, axis=1)\n",
    "\n",
    "cm = tf.math.confusion_matrix(y_test, predictions, 3)\n",
    "\n",
    "print(cm)"
   ]
  },
  {
   "cell_type": "code",
   "execution_count": null,
   "metadata": {},
   "outputs": [],
   "source": [
    "\n"
   ]
  }
 ],
 "metadata": {
  "accelerator": "GPU",
  "colab": {
   "collapsed_sections": [],
   "name": "advanced.ipynb",
   "toc_visible": true
  },
  "kernelspec": {
   "display_name": "Python 3",
   "language": "python",
   "name": "python3"
  },
  "language_info": {
   "codemirror_mode": {
    "name": "ipython",
    "version": 3
   },
   "file_extension": ".py",
   "mimetype": "text/x-python",
   "name": "python",
   "nbconvert_exporter": "python",
   "pygments_lexer": "ipython3",
   "version": "3.5.6"
  }
 },
 "nbformat": 4,
 "nbformat_minor": 1
}

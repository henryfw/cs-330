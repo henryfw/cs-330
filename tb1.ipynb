{
 "cells": [
  {
   "cell_type": "markdown",
   "metadata": {
    "id": "3wF5wszaj97Y"
   },
   "source": [
    "# Single Class TB"
   ]
  },
  {
   "cell_type": "code",
   "execution_count": 14,
   "metadata": {
    "execution": {
     "iopub.execute_input": "2020-10-08T01:22:49.877792Z",
     "iopub.status.busy": "2020-10-08T01:22:49.877115Z",
     "iopub.status.idle": "2020-10-08T01:22:55.969522Z",
     "shell.execute_reply": "2020-10-08T01:22:55.968963Z"
    },
    "id": "0trJmd6DjqBZ"
   },
   "outputs": [
    {
     "ename": "ValueError",
     "evalue": "Cannot set memory growth on device when virtual devices configured",
     "output_type": "error",
     "traceback": [
      "\u001b[1;31m---------------------------------------------------------------------------\u001b[0m",
      "\u001b[1;31mValueError\u001b[0m                                Traceback (most recent call last)",
      "\u001b[1;32m<ipython-input-14-12c1e7f24882>\u001b[0m in \u001b[0;36m<module>\u001b[1;34m\u001b[0m\n\u001b[0;32m      3\u001b[0m \u001b[1;33m\u001b[0m\u001b[0m\n\u001b[0;32m      4\u001b[0m \u001b[0mgpus\u001b[0m \u001b[1;33m=\u001b[0m \u001b[0mtf\u001b[0m\u001b[1;33m.\u001b[0m\u001b[0mconfig\u001b[0m\u001b[1;33m.\u001b[0m\u001b[0mexperimental\u001b[0m\u001b[1;33m.\u001b[0m\u001b[0mlist_physical_devices\u001b[0m\u001b[1;33m(\u001b[0m\u001b[1;34m'GPU'\u001b[0m\u001b[1;33m)\u001b[0m\u001b[1;33m\u001b[0m\u001b[0m\n\u001b[1;32m----> 5\u001b[1;33m \u001b[0mtf\u001b[0m\u001b[1;33m.\u001b[0m\u001b[0mconfig\u001b[0m\u001b[1;33m.\u001b[0m\u001b[0mexperimental\u001b[0m\u001b[1;33m.\u001b[0m\u001b[0mset_memory_growth\u001b[0m\u001b[1;33m(\u001b[0m\u001b[0mgpus\u001b[0m\u001b[1;33m[\u001b[0m\u001b[1;36m0\u001b[0m\u001b[1;33m]\u001b[0m\u001b[1;33m,\u001b[0m \u001b[1;32mTrue\u001b[0m\u001b[1;33m)\u001b[0m\u001b[1;33m\u001b[0m\u001b[0m\n\u001b[0m\u001b[0;32m      6\u001b[0m \u001b[0mtf\u001b[0m\u001b[1;33m.\u001b[0m\u001b[0mconfig\u001b[0m\u001b[1;33m.\u001b[0m\u001b[0mexperimental\u001b[0m\u001b[1;33m.\u001b[0m\u001b[0mset_virtual_device_configuration\u001b[0m\u001b[1;33m(\u001b[0m\u001b[0mgpus\u001b[0m\u001b[1;33m[\u001b[0m\u001b[1;36m0\u001b[0m\u001b[1;33m]\u001b[0m\u001b[1;33m,\u001b[0m \u001b[1;33m[\u001b[0m\u001b[0mtf\u001b[0m\u001b[1;33m.\u001b[0m\u001b[0mconfig\u001b[0m\u001b[1;33m.\u001b[0m\u001b[0mexperimental\u001b[0m\u001b[1;33m.\u001b[0m\u001b[0mVirtualDeviceConfiguration\u001b[0m\u001b[1;33m(\u001b[0m\u001b[0mmemory_limit\u001b[0m\u001b[1;33m=\u001b[0m\u001b[1;36m3999\u001b[0m\u001b[1;33m)\u001b[0m\u001b[1;33m]\u001b[0m\u001b[1;33m)\u001b[0m\u001b[1;33m\u001b[0m\u001b[0m\n\u001b[0;32m      7\u001b[0m \u001b[1;33m\u001b[0m\u001b[0m\n",
      "\u001b[1;32mc:\\users\\uprz2\\anaconda3\\envs\\cs330b\\lib\\site-packages\\tensorflow\\python\\framework\\config.py\u001b[0m in \u001b[0;36mset_memory_growth\u001b[1;34m(device, enable)\u001b[0m\n\u001b[0;32m    529\u001b[0m     \u001b[0mRuntimeError\u001b[0m\u001b[1;33m:\u001b[0m \u001b[0mRuntime\u001b[0m \u001b[1;32mis\u001b[0m \u001b[0malready\u001b[0m \u001b[0minitialized\u001b[0m\u001b[1;33m.\u001b[0m\u001b[1;33m\u001b[0m\u001b[0m\n\u001b[0;32m    530\u001b[0m   \"\"\"\n\u001b[1;32m--> 531\u001b[1;33m   \u001b[0mcontext\u001b[0m\u001b[1;33m.\u001b[0m\u001b[0mcontext\u001b[0m\u001b[1;33m(\u001b[0m\u001b[1;33m)\u001b[0m\u001b[1;33m.\u001b[0m\u001b[0mset_memory_growth\u001b[0m\u001b[1;33m(\u001b[0m\u001b[0mdevice\u001b[0m\u001b[1;33m,\u001b[0m \u001b[0menable\u001b[0m\u001b[1;33m)\u001b[0m\u001b[1;33m\u001b[0m\u001b[0m\n\u001b[0m\u001b[0;32m    532\u001b[0m \u001b[1;33m\u001b[0m\u001b[0m\n\u001b[0;32m    533\u001b[0m \u001b[1;33m\u001b[0m\u001b[0m\n",
      "\u001b[1;32mc:\\users\\uprz2\\anaconda3\\envs\\cs330b\\lib\\site-packages\\tensorflow\\python\\eager\\context.py\u001b[0m in \u001b[0;36mset_memory_growth\u001b[1;34m(self, dev, enable)\u001b[0m\n\u001b[0;32m   1407\u001b[0m     \u001b[1;32mif\u001b[0m \u001b[0mdev\u001b[0m \u001b[1;32min\u001b[0m \u001b[0mself\u001b[0m\u001b[1;33m.\u001b[0m\u001b[0m_virtual_device_map\u001b[0m\u001b[1;33m:\u001b[0m\u001b[1;33m\u001b[0m\u001b[0m\n\u001b[0;32m   1408\u001b[0m       raise ValueError(\n\u001b[1;32m-> 1409\u001b[1;33m           \"Cannot set memory growth on device when virtual devices configured\")\n\u001b[0m\u001b[0;32m   1410\u001b[0m \u001b[1;33m\u001b[0m\u001b[0m\n\u001b[0;32m   1411\u001b[0m     \u001b[1;32mif\u001b[0m \u001b[0mdev\u001b[0m\u001b[1;33m.\u001b[0m\u001b[0mdevice_type\u001b[0m \u001b[1;33m!=\u001b[0m \u001b[1;34m\"GPU\"\u001b[0m\u001b[1;33m:\u001b[0m\u001b[1;33m\u001b[0m\u001b[0m\n",
      "\u001b[1;31mValueError\u001b[0m: Cannot set memory growth on device when virtual devices configured"
     ]
    }
   ],
   "source": [
    "import tensorflow as tf\n",
    "\n",
    "\n",
    "gpus = tf.config.experimental.list_physical_devices('GPU')\n",
    "tf.config.experimental.set_memory_growth(gpus[0], True)\n",
    "tf.config.experimental.set_virtual_device_configuration(gpus[0], [tf.config.experimental.VirtualDeviceConfiguration(memory_limit=3999)])\n",
    " \n",
    "\n",
    "from tensorflow.keras.layers import Dense, Flatten, Conv2D\n",
    "from tensorflow.keras import Model"
   ]
  },
  {
   "cell_type": "code",
   "execution_count": null,
   "metadata": {},
   "outputs": [],
   "source": [
    "print(('Is your GPU available for use?\\n{0}').format(\n",
    "    'Yes, your GPU is available: True' if tf.test.is_gpu_available() == True else 'No, your GPU is NOT available: False'\n",
    "))\n",
    "\n",
    "print(('\\nYour devices that are available:\\n{0}').format(\n",
    "    [device.name for device in tf.config.experimental.list_physical_devices()]\n",
    "))"
   ]
  },
  {
   "cell_type": "markdown",
   "metadata": {
    "id": "7NAbSZiaoJ4z"
   },
   "source": [
    "Load and prepare data"
   ]
  },
  {
   "cell_type": "code",
   "execution_count": 15,
   "metadata": {},
   "outputs": [],
   "source": [
    "import cv2 as cv\n",
    "import pickle\n",
    "import random\n",
    "import numpy as np\n",
    " "
   ]
  },
  {
   "cell_type": "code",
   "execution_count": 24,
   "metadata": {
    "execution": {
     "iopub.execute_input": "2020-10-08T01:22:55.975638Z",
     "iopub.status.busy": "2020-10-08T01:22:55.974545Z",
     "iopub.status.idle": "2020-10-08T01:22:56.930680Z",
     "shell.execute_reply": "2020-10-08T01:22:56.931142Z"
    },
    "id": "JqFRS6K07jJs"
   },
   "outputs": [
    {
     "name": "stdout",
     "output_type": "stream",
     "text": [
      "train size: 529, test size: 133\n"
     ]
    }
   ],
   "source": [
    "raw_data = pickle.load( open( \"C:/Users/uprz2/Downloads/cs330/data/tb1-256-grayscale\", \"rb\" ) ) # array of tuples( [x,y], 0|1 )\n",
    "random.shuffle(raw_data)\n",
    "\n",
    "\n",
    "fraction_train = 0.8\n",
    "train_size = int(len(raw_data) * fraction_train)\n",
    "\n",
    "x_train = []\n",
    "y_train = []\n",
    "\n",
    "for v in raw_data[0: train_size] :\n",
    "    x_train.append(v[0])\n",
    "    y_train.append(v[1])\n",
    "\n",
    "x_train = np.array(x_train) \n",
    "y_train = np.array(y_train)    \n",
    "\n",
    "x_test = []\n",
    "y_test = []\n",
    "\n",
    "\n",
    "for v in raw_data[train_size:]:\n",
    "    x_test.append(v[0])\n",
    "    y_test.append(v[1])\n",
    "    \n",
    "\n",
    "x_test = np.array(x_test) \n",
    "y_test = np.array(y_test)  \n",
    "\n",
    "\n",
    "x_train, x_test = x_train / 255.0, x_test / 255.0\n",
    "\n",
    "\n",
    "\n",
    "# Add a channels dimension\n",
    "x_train = x_train[..., tf.newaxis].astype(\"float32\")\n",
    "x_test = x_test[..., tf.newaxis].astype(\"float32\")\n",
    "\n",
    "print(\"train size: {}, test size: {}\".format(len(x_train), len(x_test)))\n"
   ]
  },
  {
   "cell_type": "markdown",
   "metadata": {
    "id": "k1Evqx0S22r_"
   },
   "source": [
    "Use `tf.data` to batch and shuffle the dataset:"
   ]
  },
  {
   "cell_type": "code",
   "execution_count": 25,
   "metadata": {
    "execution": {
     "iopub.execute_input": "2020-10-08T01:23:04.364209Z",
     "iopub.status.busy": "2020-10-08T01:23:04.363416Z",
     "iopub.status.idle": "2020-10-08T01:23:04.387872Z",
     "shell.execute_reply": "2020-10-08T01:23:04.388252Z"
    },
    "id": "8Iu_quO024c2"
   },
   "outputs": [],
   "source": [
    "train_ds = tf.data.Dataset.from_tensor_slices(\n",
    "    (x_train, y_train)).shuffle(100).batch(16)\n",
    "\n",
    "test_ds = tf.data.Dataset.from_tensor_slices((x_test, y_test)).batch(16)"
   ]
  },
  {
   "cell_type": "code",
   "execution_count": 26,
   "metadata": {
    "execution": {
     "iopub.execute_input": "2020-10-08T01:23:04.395483Z",
     "iopub.status.busy": "2020-10-08T01:23:04.394652Z",
     "iopub.status.idle": "2020-10-08T01:23:04.689865Z",
     "shell.execute_reply": "2020-10-08T01:23:04.690256Z"
    },
    "id": "h3IKyzTCDNGo"
   },
   "outputs": [],
   "source": [
    "class MyModel(Model):\n",
    "  def __init__(self):\n",
    "    super(MyModel, self).__init__()\n",
    "    self.conv1 = Conv2D(32, 3, activation='relu')\n",
    "    self.flatten = Flatten()\n",
    "    self.d1 = Dense(64, activation='relu')\n",
    "    self.d2 = Dense(2)\n",
    "\n",
    "  def call(self, x):\n",
    "    x = self.conv1(x)\n",
    "    x = self.flatten(x)\n",
    "    x = self.d1(x)\n",
    "    return self.d2(x)\n",
    "\n",
    "# Create an instance of the model\n",
    "model = MyModel()"
   ]
  },
  {
   "cell_type": "markdown",
   "metadata": {
    "id": "uGih-c2LgbJu"
   },
   "source": [
    "Choose an optimizer and loss function for training: "
   ]
  },
  {
   "cell_type": "code",
   "execution_count": 27,
   "metadata": {
    "execution": {
     "iopub.execute_input": "2020-10-08T01:23:04.697138Z",
     "iopub.status.busy": "2020-10-08T01:23:04.696529Z",
     "iopub.status.idle": "2020-10-08T01:23:04.698387Z",
     "shell.execute_reply": "2020-10-08T01:23:04.698787Z"
    },
    "id": "u48C9WQ774n4"
   },
   "outputs": [],
   "source": [
    "loss_object = tf.keras.losses.SparseCategoricalCrossentropy(from_logits=True)\n",
    "\n",
    "optimizer = tf.keras.optimizers.Adam()"
   ]
  },
  {
   "cell_type": "markdown",
   "metadata": {
    "id": "JB6A1vcigsIe"
   },
   "source": [
    "Select metrics to measure the loss and the accuracy of the model. These metrics accumulate the values over epochs and then print the overall result."
   ]
  },
  {
   "cell_type": "code",
   "execution_count": 28,
   "metadata": {
    "execution": {
     "iopub.execute_input": "2020-10-08T01:23:04.708701Z",
     "iopub.status.busy": "2020-10-08T01:23:04.708038Z",
     "iopub.status.idle": "2020-10-08T01:23:04.731817Z",
     "shell.execute_reply": "2020-10-08T01:23:04.732252Z"
    },
    "id": "N0MqHFb4F_qn"
   },
   "outputs": [],
   "source": [
    "train_loss = tf.keras.metrics.Mean(name='train_loss')\n",
    "train_accuracy = tf.keras.metrics.SparseCategoricalAccuracy(name='train_accuracy')\n",
    "\n",
    "test_loss = tf.keras.metrics.Mean(name='test_loss')\n",
    "test_accuracy = tf.keras.metrics.SparseCategoricalAccuracy(name='test_accuracy')"
   ]
  },
  {
   "cell_type": "markdown",
   "metadata": {
    "id": "ix4mEL65on-w"
   },
   "source": [
    "Use `tf.GradientTape` to train the model:"
   ]
  },
  {
   "cell_type": "code",
   "execution_count": 29,
   "metadata": {
    "execution": {
     "iopub.execute_input": "2020-10-08T01:23:04.738604Z",
     "iopub.status.busy": "2020-10-08T01:23:04.737924Z",
     "iopub.status.idle": "2020-10-08T01:23:04.739923Z",
     "shell.execute_reply": "2020-10-08T01:23:04.739425Z"
    },
    "id": "OZACiVqA8KQV"
   },
   "outputs": [],
   "source": [
    "@tf.function\n",
    "def train_step(images, labels):\n",
    "  with tf.GradientTape() as tape:\n",
    "    # training=True is only needed if there are layers with different\n",
    "    # behavior during training versus inference (e.g. Dropout).\n",
    "    predictions = model(images, training=True)\n",
    "    loss = loss_object(labels, predictions)\n",
    "  gradients = tape.gradient(loss, model.trainable_variables)\n",
    "  optimizer.apply_gradients(zip(gradients, model.trainable_variables))\n",
    "\n",
    "  train_loss(loss)\n",
    "  train_accuracy(labels, predictions)"
   ]
  },
  {
   "cell_type": "markdown",
   "metadata": {
    "id": "Z8YT7UmFgpjV"
   },
   "source": [
    "Test the model:"
   ]
  },
  {
   "cell_type": "code",
   "execution_count": 30,
   "metadata": {
    "execution": {
     "iopub.execute_input": "2020-10-08T01:23:04.744781Z",
     "iopub.status.busy": "2020-10-08T01:23:04.744084Z",
     "iopub.status.idle": "2020-10-08T01:23:04.745839Z",
     "shell.execute_reply": "2020-10-08T01:23:04.746244Z"
    },
    "id": "xIKdEzHAJGt7"
   },
   "outputs": [],
   "source": [
    "@tf.function\n",
    "def test_step(images, labels):\n",
    "  # training=False is only needed if there are layers with different\n",
    "  # behavior during training versus inference (e.g. Dropout).\n",
    "  predictions = model(images, training=False)\n",
    "  t_loss = loss_object(labels, predictions)\n",
    "\n",
    "  test_loss(t_loss)\n",
    "  test_accuracy(labels, predictions)"
   ]
  },
  {
   "cell_type": "code",
   "execution_count": 31,
   "metadata": {
    "execution": {
     "iopub.execute_input": "2020-10-08T01:23:04.751851Z",
     "iopub.status.busy": "2020-10-08T01:23:04.751182Z",
     "iopub.status.idle": "2020-10-08T01:23:20.841977Z",
     "shell.execute_reply": "2020-10-08T01:23:20.841365Z"
    },
    "id": "i-2pkctU_Ci7"
   },
   "outputs": [
    {
     "name": "stdout",
     "output_type": "stream",
     "text": [
      "Epoch 1,  Loss: 19.57366371154785,  Accuracy: 51.41776657104492,  Test Loss: 0.6197091937065125,  Test Accuracy: 69.17292785644531\n",
      "Epoch 2,  Loss: 0.5636592507362366,  Accuracy: 72.77882385253906,  Test Loss: 0.4881576895713806,  Test Accuracy: 77.44361114501953\n",
      "Epoch 3,  Loss: 0.43316781520843506,  Accuracy: 83.93194580078125,  Test Loss: 0.6272428035736084,  Test Accuracy: 77.44361114501953\n",
      "Epoch 4,  Loss: 0.46692344546318054,  Accuracy: 79.77315521240234,  Test Loss: 0.4820440113544464,  Test Accuracy: 78.19548797607422\n",
      "Epoch 5,  Loss: 0.3517055809497833,  Accuracy: 86.57845306396484,  Test Loss: 0.5050029754638672,  Test Accuracy: 80.45112609863281\n",
      "Epoch 6,  Loss: 0.3435397148132324,  Accuracy: 86.20037841796875,  Test Loss: 0.5633062124252319,  Test Accuracy: 79.69924926757812\n",
      "Epoch 7,  Loss: 0.33853816986083984,  Accuracy: 87.52362823486328,  Test Loss: 0.5948857665061951,  Test Accuracy: 77.44361114501953\n",
      "Epoch 8,  Loss: 0.34219327569007874,  Accuracy: 86.38941955566406,  Test Loss: 0.5731834173202515,  Test Accuracy: 78.19548797607422\n",
      "Epoch 9,  Loss: 0.3021434247493744,  Accuracy: 87.71266174316406,  Test Loss: 0.5235398411750793,  Test Accuracy: 77.44361114501953\n",
      "Epoch 10,  Loss: 0.24488617479801178,  Accuracy: 90.54820251464844,  Test Loss: 0.5114042162895203,  Test Accuracy: 77.44361114501953\n",
      "Epoch 11,  Loss: 0.23837880790233612,  Accuracy: 92.43856048583984,  Test Loss: 0.5276482105255127,  Test Accuracy: 77.44361114501953\n",
      "Epoch 12,  Loss: 0.23191972076892853,  Accuracy: 90.92627716064453,  Test Loss: 0.5433967709541321,  Test Accuracy: 76.69172668457031\n",
      "Epoch 13,  Loss: 0.18503321707248688,  Accuracy: 93.1947021484375,  Test Loss: 0.5208010077476501,  Test Accuracy: 79.69924926757812\n",
      "Epoch 14,  Loss: 0.1652301549911499,  Accuracy: 95.08506774902344,  Test Loss: 0.5215752124786377,  Test Accuracy: 77.44361114501953\n",
      "Epoch 15,  Loss: 0.12799055874347687,  Accuracy: 96.21928405761719,  Test Loss: 0.5320137739181519,  Test Accuracy: 78.94737243652344\n",
      "Epoch 16,  Loss: 0.10347657650709152,  Accuracy: 97.92060089111328,  Test Loss: 0.5710596442222595,  Test Accuracy: 78.19548797607422\n",
      "Epoch 17,  Loss: 0.3241056501865387,  Accuracy: 89.79206085205078,  Test Loss: 0.5713516473770142,  Test Accuracy: 75.93984985351562\n",
      "Epoch 18,  Loss: 0.1546236127614975,  Accuracy: 94.89602661132812,  Test Loss: 0.6170734167098999,  Test Accuracy: 75.18797302246094\n",
      "Epoch 19,  Loss: 0.12325131148099899,  Accuracy: 96.78639221191406,  Test Loss: 0.5894466042518616,  Test Accuracy: 77.44361114501953\n",
      "Epoch 20,  Loss: 0.0954267680644989,  Accuracy: 97.7315673828125,  Test Loss: 0.6758083701133728,  Test Accuracy: 77.44361114501953\n",
      "Epoch 21,  Loss: 0.09700467437505722,  Accuracy: 97.54253387451172,  Test Loss: 0.6022035479545593,  Test Accuracy: 76.69172668457031\n",
      "Epoch 22,  Loss: 0.06538063287734985,  Accuracy: 98.48770904541016,  Test Loss: 0.6047134399414062,  Test Accuracy: 77.44361114501953\n",
      "Epoch 23,  Loss: 0.05449813976883888,  Accuracy: 98.67675018310547,  Test Loss: 0.6319364309310913,  Test Accuracy: 77.44361114501953\n",
      "Epoch 24,  Loss: 0.04453524574637413,  Accuracy: 98.67675018310547,  Test Loss: 0.6536760926246643,  Test Accuracy: 77.44361114501953\n",
      "Epoch 25,  Loss: 0.04306576028466225,  Accuracy: 98.67675018310547,  Test Loss: 0.6421157121658325,  Test Accuracy: 77.44361114501953\n",
      "Epoch 26,  Loss: 0.031573086977005005,  Accuracy: 98.67675018310547,  Test Loss: 0.6641465425491333,  Test Accuracy: 77.44361114501953\n",
      "Epoch 27,  Loss: 0.030761007219552994,  Accuracy: 98.67675018310547,  Test Loss: 0.7026551365852356,  Test Accuracy: 77.44361114501953\n",
      "Epoch 28,  Loss: 0.02837764285504818,  Accuracy: 98.67675018310547,  Test Loss: 0.6925513744354248,  Test Accuracy: 78.19548797607422\n",
      "Epoch 29,  Loss: 0.020456437021493912,  Accuracy: 98.67675018310547,  Test Loss: 0.7228289842605591,  Test Accuracy: 76.69172668457031\n",
      "Epoch 30,  Loss: 0.019794894382357597,  Accuracy: 98.67675018310547,  Test Loss: 0.7518608570098877,  Test Accuracy: 77.44361114501953\n"
     ]
    }
   ],
   "source": [
    "EPOCHS = 30\n",
    "\n",
    "for epoch in range(EPOCHS):\n",
    "  # Reset the metrics at the start of the next epoch\n",
    "  train_loss.reset_states()\n",
    "  train_accuracy.reset_states()\n",
    "  test_loss.reset_states()\n",
    "  test_accuracy.reset_states()\n",
    "\n",
    "  for images, labels in train_ds:\n",
    "    train_step(images, labels)\n",
    "\n",
    "  for test_images, test_labels in test_ds:\n",
    "    test_step(test_images, test_labels)\n",
    "\n",
    "  print(\n",
    "    'Epoch {}, '.format(epoch + 1),\n",
    "    'Loss: {}, '.format(train_loss.result()),\n",
    "    'Accuracy: {}, '.format(train_accuracy.result() * 100),\n",
    "    'Test Loss: {}, '.format(test_loss.result()),\n",
    "    'Test Accuracy: {}'.format(test_accuracy.result() * 100)\n",
    "  )"
   ]
  },
  {
   "cell_type": "code",
   "execution_count": null,
   "metadata": {},
   "outputs": [],
   "source": []
  },
  {
   "cell_type": "code",
   "execution_count": null,
   "metadata": {},
   "outputs": [],
   "source": []
  }
 ],
 "metadata": {
  "accelerator": "GPU",
  "colab": {
   "collapsed_sections": [],
   "name": "advanced.ipynb",
   "toc_visible": true
  },
  "kernelspec": {
   "display_name": "Python 3",
   "language": "python",
   "name": "python3"
  },
  "language_info": {
   "codemirror_mode": {
    "name": "ipython",
    "version": 3
   },
   "file_extension": ".py",
   "mimetype": "text/x-python",
   "name": "python",
   "nbconvert_exporter": "python",
   "pygments_lexer": "ipython3",
   "version": "3.5.6"
  }
 },
 "nbformat": 4,
 "nbformat_minor": 1
}

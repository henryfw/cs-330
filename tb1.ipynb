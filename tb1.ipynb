{
 "cells": [
  {
   "cell_type": "markdown",
   "metadata": {
    "id": "3wF5wszaj97Y"
   },
   "source": [
    "# Single Class TB"
   ]
  },
  {
   "cell_type": "code",
   "execution_count": 1,
   "metadata": {
    "execution": {
     "iopub.execute_input": "2020-10-08T01:22:49.877792Z",
     "iopub.status.busy": "2020-10-08T01:22:49.877115Z",
     "iopub.status.idle": "2020-10-08T01:22:55.969522Z",
     "shell.execute_reply": "2020-10-08T01:22:55.968963Z"
    },
    "id": "0trJmd6DjqBZ"
   },
   "outputs": [],
   "source": [
    "import tensorflow as tf\n",
    "\n",
    "\n",
    "gpus = tf.config.experimental.list_physical_devices('GPU')\n",
    "tf.config.experimental.set_memory_growth(gpus[0], True)\n",
    "tf.config.experimental.set_virtual_device_configuration(gpus[0], [tf.config.experimental.VirtualDeviceConfiguration(memory_limit=3999)])\n",
    " \n",
    "\n",
    "from tensorflow.keras.layers import Dense, Flatten, Conv2D\n",
    "from tensorflow.keras import Model"
   ]
  },
  {
   "cell_type": "code",
   "execution_count": 2,
   "metadata": {},
   "outputs": [
    {
     "name": "stdout",
     "output_type": "stream",
     "text": [
      "WARNING:tensorflow:From <ipython-input-2-25452c320fbf>:2: is_gpu_available (from tensorflow.python.framework.test_util) is deprecated and will be removed in a future version.\n",
      "Instructions for updating:\n",
      "Use `tf.config.list_physical_devices('GPU')` instead.\n",
      "Is your GPU available for use?\n",
      "Yes, your GPU is available: True\n",
      "\n",
      "Your devices that are available:\n",
      "['/physical_device:CPU:0', '/physical_device:XLA_CPU:0', '/physical_device:GPU:0', '/physical_device:XLA_GPU:0']\n"
     ]
    }
   ],
   "source": [
    "print(('Is your GPU available for use?\\n{0}').format(\n",
    "    'Yes, your GPU is available: True' if tf.test.is_gpu_available() == True else 'No, your GPU is NOT available: False'\n",
    "))\n",
    "\n",
    "print(('\\nYour devices that are available:\\n{0}').format(\n",
    "    [device.name for device in tf.config.experimental.list_physical_devices()]\n",
    "))"
   ]
  },
  {
   "cell_type": "markdown",
   "metadata": {
    "id": "7NAbSZiaoJ4z"
   },
   "source": [
    "Load and prepare data"
   ]
  },
  {
   "cell_type": "code",
   "execution_count": 3,
   "metadata": {},
   "outputs": [],
   "source": [
    "import cv2 as cv\n",
    "import pickle\n",
    "import random\n",
    "import numpy as np\n",
    " "
   ]
  },
  {
   "cell_type": "code",
   "execution_count": 4,
   "metadata": {
    "execution": {
     "iopub.execute_input": "2020-10-08T01:22:55.975638Z",
     "iopub.status.busy": "2020-10-08T01:22:55.974545Z",
     "iopub.status.idle": "2020-10-08T01:22:56.930680Z",
     "shell.execute_reply": "2020-10-08T01:22:56.931142Z"
    },
    "id": "JqFRS6K07jJs"
   },
   "outputs": [
    {
     "name": "stdout",
     "output_type": "stream",
     "text": [
      "train size: 529, test size: 133\n"
     ]
    }
   ],
   "source": [
    "raw_data = pickle.load( open( \"C:/Users/uprz2/Downloads/cs330/data/tb1-256-grayscale\", \"rb\" ) ) # array of tuples( [x,y], 0|1 )\n",
    "random.shuffle(raw_data)\n",
    "\n",
    "\n",
    "fraction_train = 0.8\n",
    "train_size = int(len(raw_data) * fraction_train)\n",
    "\n",
    "x_train = []\n",
    "y_train = []\n",
    "\n",
    "for v in raw_data[0: train_size] :\n",
    "    x_train.append(v[0])\n",
    "    y_train.append(v[1])\n",
    "\n",
    "x_train = np.array(x_train) \n",
    "y_train = np.array(y_train)    \n",
    "\n",
    "x_test = []\n",
    "y_test = []\n",
    "\n",
    "\n",
    "for v in raw_data[train_size:]:\n",
    "    x_test.append(v[0])\n",
    "    y_test.append(v[1])\n",
    "    \n",
    "\n",
    "x_test = np.array(x_test) \n",
    "y_test = np.array(y_test)  \n",
    "\n",
    "\n",
    "x_train, x_test = x_train / 255.0, x_test / 255.0\n",
    "\n",
    "\n",
    "\n",
    "# Add a channels dimension\n",
    "x_train = x_train[..., tf.newaxis].astype(\"float32\")\n",
    "x_test = x_test[..., tf.newaxis].astype(\"float32\")\n",
    "\n",
    "print(\"train size: {}, test size: {}\".format(len(x_train), len(x_test)))\n"
   ]
  },
  {
   "cell_type": "markdown",
   "metadata": {
    "id": "k1Evqx0S22r_"
   },
   "source": [
    "Use `tf.data` to batch and shuffle the dataset:"
   ]
  },
  {
   "cell_type": "code",
   "execution_count": 5,
   "metadata": {
    "execution": {
     "iopub.execute_input": "2020-10-08T01:23:04.364209Z",
     "iopub.status.busy": "2020-10-08T01:23:04.363416Z",
     "iopub.status.idle": "2020-10-08T01:23:04.387872Z",
     "shell.execute_reply": "2020-10-08T01:23:04.388252Z"
    },
    "id": "8Iu_quO024c2"
   },
   "outputs": [],
   "source": [
    "train_ds = tf.data.Dataset.from_tensor_slices(\n",
    "    (x_train, y_train)).shuffle(100).batch(8)\n",
    "\n",
    "test_ds = tf.data.Dataset.from_tensor_slices((x_test, y_test)).batch(8)"
   ]
  },
  {
   "cell_type": "code",
   "execution_count": 6,
   "metadata": {
    "execution": {
     "iopub.execute_input": "2020-10-08T01:23:04.395483Z",
     "iopub.status.busy": "2020-10-08T01:23:04.394652Z",
     "iopub.status.idle": "2020-10-08T01:23:04.689865Z",
     "shell.execute_reply": "2020-10-08T01:23:04.690256Z"
    },
    "id": "h3IKyzTCDNGo"
   },
   "outputs": [],
   "source": [
    "class MyModel(Model):\n",
    "  def __init__(self):\n",
    "    super(MyModel, self).__init__()\n",
    "    self.conv1 = Conv2D(32, 3, activation='relu')\n",
    "    self.flatten = Flatten()\n",
    "    self.d1 = Dense(64, activation='relu')\n",
    "    self.d2 = Dense(2)\n",
    "\n",
    "  def call(self, x):\n",
    "    x = self.conv1(x)\n",
    "    x = self.flatten(x)\n",
    "    x = self.d1(x)\n",
    "    return self.d2(x)\n",
    "\n",
    "# Create an instance of the model\n",
    "model = MyModel()"
   ]
  },
  {
   "cell_type": "markdown",
   "metadata": {
    "id": "uGih-c2LgbJu"
   },
   "source": [
    "Choose an optimizer and loss function for training: "
   ]
  },
  {
   "cell_type": "code",
   "execution_count": 7,
   "metadata": {
    "execution": {
     "iopub.execute_input": "2020-10-08T01:23:04.697138Z",
     "iopub.status.busy": "2020-10-08T01:23:04.696529Z",
     "iopub.status.idle": "2020-10-08T01:23:04.698387Z",
     "shell.execute_reply": "2020-10-08T01:23:04.698787Z"
    },
    "id": "u48C9WQ774n4"
   },
   "outputs": [],
   "source": [
    "loss_object = tf.keras.losses.SparseCategoricalCrossentropy(from_logits=True)\n",
    "\n",
    "optimizer = tf.keras.optimizers.Adam()"
   ]
  },
  {
   "cell_type": "markdown",
   "metadata": {
    "id": "JB6A1vcigsIe"
   },
   "source": [
    "Select metrics to measure the loss and the accuracy of the model. These metrics accumulate the values over epochs and then print the overall result."
   ]
  },
  {
   "cell_type": "code",
   "execution_count": 8,
   "metadata": {
    "execution": {
     "iopub.execute_input": "2020-10-08T01:23:04.708701Z",
     "iopub.status.busy": "2020-10-08T01:23:04.708038Z",
     "iopub.status.idle": "2020-10-08T01:23:04.731817Z",
     "shell.execute_reply": "2020-10-08T01:23:04.732252Z"
    },
    "id": "N0MqHFb4F_qn"
   },
   "outputs": [],
   "source": [
    "train_loss = tf.keras.metrics.Mean(name='train_loss')\n",
    "train_accuracy = tf.keras.metrics.SparseCategoricalAccuracy(name='train_accuracy')\n",
    "\n",
    "test_loss = tf.keras.metrics.Mean(name='test_loss')\n",
    "test_accuracy = tf.keras.metrics.SparseCategoricalAccuracy(name='test_accuracy')"
   ]
  },
  {
   "cell_type": "markdown",
   "metadata": {
    "id": "ix4mEL65on-w"
   },
   "source": [
    "Use `tf.GradientTape` to train the model:"
   ]
  },
  {
   "cell_type": "code",
   "execution_count": 9,
   "metadata": {
    "execution": {
     "iopub.execute_input": "2020-10-08T01:23:04.738604Z",
     "iopub.status.busy": "2020-10-08T01:23:04.737924Z",
     "iopub.status.idle": "2020-10-08T01:23:04.739923Z",
     "shell.execute_reply": "2020-10-08T01:23:04.739425Z"
    },
    "id": "OZACiVqA8KQV"
   },
   "outputs": [],
   "source": [
    "@tf.function\n",
    "def train_step(images, labels):\n",
    "  with tf.GradientTape() as tape:\n",
    "    # training=True is only needed if there are layers with different\n",
    "    # behavior during training versus inference (e.g. Dropout).\n",
    "    predictions = model(images, training=True)\n",
    "    loss = loss_object(labels, predictions)\n",
    "  gradients = tape.gradient(loss, model.trainable_variables)\n",
    "  optimizer.apply_gradients(zip(gradients, model.trainable_variables))\n",
    "\n",
    "  train_loss(loss)\n",
    "  train_accuracy(labels, predictions)"
   ]
  },
  {
   "cell_type": "markdown",
   "metadata": {
    "id": "Z8YT7UmFgpjV"
   },
   "source": [
    "Test the model:"
   ]
  },
  {
   "cell_type": "code",
   "execution_count": 10,
   "metadata": {
    "execution": {
     "iopub.execute_input": "2020-10-08T01:23:04.744781Z",
     "iopub.status.busy": "2020-10-08T01:23:04.744084Z",
     "iopub.status.idle": "2020-10-08T01:23:04.745839Z",
     "shell.execute_reply": "2020-10-08T01:23:04.746244Z"
    },
    "id": "xIKdEzHAJGt7"
   },
   "outputs": [],
   "source": [
    "@tf.function\n",
    "def test_step(images, labels):\n",
    "  # training=False is only needed if there are layers with different\n",
    "  # behavior during training versus inference (e.g. Dropout).\n",
    "  predictions = model(images, training=False)\n",
    "  t_loss = loss_object(labels, predictions)\n",
    "\n",
    "  test_loss(t_loss)\n",
    "  test_accuracy(labels, predictions)"
   ]
  },
  {
   "cell_type": "code",
   "execution_count": 11,
   "metadata": {
    "execution": {
     "iopub.execute_input": "2020-10-08T01:23:04.751851Z",
     "iopub.status.busy": "2020-10-08T01:23:04.751182Z",
     "iopub.status.idle": "2020-10-08T01:23:20.841977Z",
     "shell.execute_reply": "2020-10-08T01:23:20.841365Z"
    },
    "id": "i-2pkctU_Ci7"
   },
   "outputs": [
    {
     "name": "stdout",
     "output_type": "stream",
     "text": [
      "Epoch 1,  Loss: 10.540584564208984,  Accuracy: 66.16256713867188,  Test Loss: 1.6124067306518555,  Test Accuracy: 64.66165161132812\n",
      "Epoch 2,  Loss: 0.9835973978042603,  Accuracy: 75.80340576171875,  Test Loss: 0.5872789621353149,  Test Accuracy: 79.69924926757812\n",
      "Epoch 3,  Loss: 0.5492386221885681,  Accuracy: 79.39508819580078,  Test Loss: 0.44869065284729004,  Test Accuracy: 84.21052551269531\n",
      "Epoch 4,  Loss: 0.3151622414588928,  Accuracy: 87.52362823486328,  Test Loss: 0.43226107954978943,  Test Accuracy: 83.4586410522461\n",
      "Epoch 5,  Loss: 0.2539288401603699,  Accuracy: 90.17013549804688,  Test Loss: 0.4768538177013397,  Test Accuracy: 80.45112609863281\n",
      "Epoch 6,  Loss: 0.19283871352672577,  Accuracy: 92.62759399414062,  Test Loss: 0.44469258189201355,  Test Accuracy: 84.96240234375\n",
      "Epoch 7,  Loss: 0.12099025398492813,  Accuracy: 96.59735870361328,  Test Loss: 0.46061766147613525,  Test Accuracy: 81.95488739013672\n",
      "Epoch 8,  Loss: 0.0794309675693512,  Accuracy: 98.67675018310547,  Test Loss: 0.4600047469139099,  Test Accuracy: 84.21052551269531\n",
      "Epoch 9,  Loss: 0.06698250770568848,  Accuracy: 99.05481719970703,  Test Loss: 0.5086036324501038,  Test Accuracy: 84.21052551269531\n",
      "Epoch 10,  Loss: 0.03127271309494972,  Accuracy: 100.0,  Test Loss: 0.5808172225952148,  Test Accuracy: 81.95488739013672\n",
      "Epoch 11,  Loss: 0.02556733414530754,  Accuracy: 100.0,  Test Loss: 0.5858678221702576,  Test Accuracy: 81.20301055908203\n",
      "Epoch 12,  Loss: 0.03789174184203148,  Accuracy: 99.81096649169922,  Test Loss: 0.5252853035926819,  Test Accuracy: 83.4586410522461\n",
      "Epoch 13,  Loss: 0.013409695588052273,  Accuracy: 100.0,  Test Loss: 0.5496986508369446,  Test Accuracy: 82.7067642211914\n",
      "Epoch 14,  Loss: 0.008894069120287895,  Accuracy: 100.0,  Test Loss: 0.5729831457138062,  Test Accuracy: 83.4586410522461\n",
      "Epoch 15,  Loss: 0.006185102742165327,  Accuracy: 100.0,  Test Loss: 0.602697491645813,  Test Accuracy: 82.7067642211914\n",
      "Epoch 16,  Loss: 0.004314439371228218,  Accuracy: 100.0,  Test Loss: 0.6240336894989014,  Test Accuracy: 83.4586410522461\n",
      "Epoch 17,  Loss: 0.0038432092405855656,  Accuracy: 100.0,  Test Loss: 0.6245999336242676,  Test Accuracy: 83.4586410522461\n",
      "Epoch 18,  Loss: 0.003142587374895811,  Accuracy: 100.0,  Test Loss: 0.6654679775238037,  Test Accuracy: 83.4586410522461\n",
      "Epoch 19,  Loss: 0.0023113680072128773,  Accuracy: 100.0,  Test Loss: 0.6910865902900696,  Test Accuracy: 82.7067642211914\n",
      "Epoch 20,  Loss: 0.0017696875147521496,  Accuracy: 100.0,  Test Loss: 0.7071192860603333,  Test Accuracy: 82.7067642211914\n",
      "Epoch 21,  Loss: 0.0014831750886514783,  Accuracy: 100.0,  Test Loss: 0.7195595502853394,  Test Accuracy: 81.95488739013672\n",
      "Epoch 22,  Loss: 0.0013552146265283227,  Accuracy: 100.0,  Test Loss: 0.7277644276618958,  Test Accuracy: 81.95488739013672\n",
      "Epoch 23,  Loss: 0.0011631121160462499,  Accuracy: 100.0,  Test Loss: 0.7328761219978333,  Test Accuracy: 82.7067642211914\n",
      "Epoch 24,  Loss: 0.0011260899482294917,  Accuracy: 100.0,  Test Loss: 0.7423588633537292,  Test Accuracy: 81.95488739013672\n",
      "Epoch 25,  Loss: 0.0008484626305289567,  Accuracy: 100.0,  Test Loss: 0.7587653994560242,  Test Accuracy: 81.95488739013672\n",
      "Epoch 26,  Loss: 0.0007313171518035233,  Accuracy: 100.0,  Test Loss: 0.7918013334274292,  Test Accuracy: 82.7067642211914\n",
      "Epoch 27,  Loss: 0.0006622369983233511,  Accuracy: 100.0,  Test Loss: 0.8267379403114319,  Test Accuracy: 83.4586410522461\n",
      "Epoch 28,  Loss: 0.0005878357915207744,  Accuracy: 100.0,  Test Loss: 0.8024188876152039,  Test Accuracy: 82.7067642211914\n",
      "Epoch 29,  Loss: 0.0006064685876481235,  Accuracy: 100.0,  Test Loss: 0.8352770805358887,  Test Accuracy: 84.21052551269531\n",
      "Epoch 30,  Loss: 0.0006281919777393341,  Accuracy: 100.0,  Test Loss: 0.7775329351425171,  Test Accuracy: 81.95488739013672\n"
     ]
    }
   ],
   "source": [
    "EPOCHS = 30\n",
    "\n",
    "for epoch in range(EPOCHS):\n",
    "  # Reset the metrics at the start of the next epoch\n",
    "  train_loss.reset_states()\n",
    "  train_accuracy.reset_states()\n",
    "  test_loss.reset_states()\n",
    "  test_accuracy.reset_states()\n",
    "\n",
    "  for images, labels in train_ds:\n",
    "    train_step(images, labels)\n",
    "\n",
    "  for test_images, test_labels in test_ds:\n",
    "    test_step(test_images, test_labels)\n",
    "\n",
    "  print(\n",
    "    'Epoch {}, '.format(epoch + 1),\n",
    "    'Loss: {}, '.format(train_loss.result()),\n",
    "    'Accuracy: {}, '.format(train_accuracy.result() * 100),\n",
    "    'Test Loss: {}, '.format(test_loss.result()),\n",
    "    'Test Accuracy: {}'.format(test_accuracy.result() * 100)\n",
    "  )"
   ]
  },
  {
   "cell_type": "code",
   "execution_count": 12,
   "metadata": {},
   "outputs": [
    {
     "name": "stdout",
     "output_type": "stream",
     "text": [
      "tf.Tensor(\n",
      "[[62 11]\n",
      " [13 47]], shape=(2, 2), dtype=int32)\n"
     ]
    }
   ],
   "source": [
    "\n",
    "predictions = model.predict(x_test)\n",
    "predictions = tf.argmax(predictions, axis=1)\n",
    "\n",
    "cm = tf.math.confusion_matrix(y_test, predictions, 2)\n",
    "\n",
    "print(cm)"
   ]
  },
  {
   "cell_type": "code",
   "execution_count": null,
   "metadata": {},
   "outputs": [],
   "source": []
  }
 ],
 "metadata": {
  "accelerator": "GPU",
  "colab": {
   "collapsed_sections": [],
   "name": "advanced.ipynb",
   "toc_visible": true
  },
  "kernelspec": {
   "display_name": "Python 3",
   "language": "python",
   "name": "python3"
  },
  "language_info": {
   "codemirror_mode": {
    "name": "ipython",
    "version": 3
   },
   "file_extension": ".py",
   "mimetype": "text/x-python",
   "name": "python",
   "nbconvert_exporter": "python",
   "pygments_lexer": "ipython3",
   "version": "3.5.6"
  }
 },
 "nbformat": 4,
 "nbformat_minor": 1
}
